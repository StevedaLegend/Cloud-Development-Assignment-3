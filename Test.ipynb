{
 "cells": [
  {
   "cell_type": "code",
   "execution_count": 15,
   "metadata": {},
   "outputs": [],
   "source": [
    "import DBcm\n",
    "import os"
   ]
  },
  {
   "cell_type": "code",
   "execution_count": 16,
   "metadata": {},
   "outputs": [],
   "source": [
    "config = {\n",
    "    \"user\": \"swimuser\",\n",
    "    \"password\": \"swimuserpasswd\",\n",
    "    \"database\": \"swimclubdb\",\n",
    "    \"host\": \"localhost\",\n",
    "}"
   ]
  },
  {
   "cell_type": "code",
   "execution_count": 17,
   "metadata": {},
   "outputs": [],
   "source": [
    "swimmer_files = os.listdir(\"swimdata/\")\n"
   ]
  },
  {
   "cell_type": "code",
   "execution_count": 18,
   "metadata": {},
   "outputs": [],
   "source": [
    "swimmers = []"
   ]
  },
  {
   "cell_type": "code",
   "execution_count": 19,
   "metadata": {},
   "outputs": [
    {
     "name": "stdout",
     "output_type": "stream",
     "text": [
      "Skipping .DS_Store because it does not have enough lines.\n",
      "Skipping Abi-10-100m-Back.txt because it does not have enough lines.\n",
      "Skipping Abi-10-100m-Breast.txt because it does not have enough lines.\n",
      "Skipping Abi-10-50m-Back.txt because it does not have enough lines.\n",
      "Skipping Abi-10-50m-Breast.txt because it does not have enough lines.\n",
      "Skipping Abi-10-50m-Free.txt because it does not have enough lines.\n",
      "Skipping Ali-12-100m-Back.txt because it does not have enough lines.\n",
      "Skipping Ali-12-100m-Free.txt because it does not have enough lines.\n",
      "Skipping Alison-14-100m-Breast.txt because it does not have enough lines.\n",
      "Skipping Alison-14-100m-Free.txt because it does not have enough lines.\n",
      "Skipping Aurora-13-50m-Free.txt because it does not have enough lines.\n",
      "Skipping Bill-18-100m-Back.txt because it does not have enough lines.\n",
      "Skipping Bill-18-200m-Back.txt because it does not have enough lines.\n",
      "Skipping Blake-15-100m-Back.txt because it does not have enough lines.\n",
      "Skipping Blake-15-100m-Fly.txt because it does not have enough lines.\n",
      "Skipping Blake-15-100m-Free.txt because it does not have enough lines.\n",
      "Skipping Calvin-9-50m-Back.txt because it does not have enough lines.\n",
      "Skipping Calvin-9-50m-Fly.txt because it does not have enough lines.\n",
      "Skipping Calvin-9-50m-Free.txt because it does not have enough lines.\n",
      "Skipping Carl-15-100m-Back.txt because it does not have enough lines.\n",
      "Skipping Chris-17-100m-Back.txt because it does not have enough lines.\n",
      "Skipping Chris-17-100m-Breast.txt because it does not have enough lines.\n",
      "Skipping Darius-13-100m-Back.txt because it does not have enough lines.\n",
      "Skipping Darius-13-100m-Breast.txt because it does not have enough lines.\n",
      "Skipping Darius-13-100m-Fly.txt because it does not have enough lines.\n",
      "Skipping Darius-13-200m-IM.txt because it does not have enough lines.\n",
      "Skipping Dave-17-100m-Free.txt because it does not have enough lines.\n",
      "Skipping Dave-17-200m-Back.txt because it does not have enough lines.\n",
      "Skipping Elba-14-100m-Free.txt because it does not have enough lines.\n",
      "Skipping Emma-13-100m-Breast.txt because it does not have enough lines.\n",
      "Skipping Emma-13-100m-Free.txt because it does not have enough lines.\n",
      "Skipping Erika-15-100m-Breast.txt because it does not have enough lines.\n",
      "Skipping Erika-15-100m-Free.txt because it does not have enough lines.\n",
      "Skipping Erika-15-200m-Breast.txt because it does not have enough lines.\n",
      "Skipping Hannah-13-100m-Back.txt because it does not have enough lines.\n",
      "Skipping Hannah-13-100m-Free.txt because it does not have enough lines.\n",
      "Skipping Katie-9-100m-Back.txt because it does not have enough lines.\n",
      "Skipping Katie-9-100m-Breast.txt because it does not have enough lines.\n",
      "Skipping Katie-9-100m-Free.txt because it does not have enough lines.\n",
      "Skipping Katie-9-50m-Back.txt because it does not have enough lines.\n",
      "Skipping Katie-9-50m-Breast.txt because it does not have enough lines.\n",
      "Skipping Katie-9-50m-Fly.txt because it does not have enough lines.\n",
      "Skipping Katie-9-50m-Free.txt because it does not have enough lines.\n",
      "Skipping Lizzie-14-100m-Back.txt because it does not have enough lines.\n",
      "Skipping Lizzie-14-100m-Free.txt because it does not have enough lines.\n",
      "Skipping Maria-9-50m-Free.txt because it does not have enough lines.\n",
      "Skipping Mike-15-100m-Back.txt because it does not have enough lines.\n",
      "Skipping Mike-15-100m-Fly.txt because it does not have enough lines.\n",
      "Skipping Mike-15-100m-Free.txt because it does not have enough lines.\n",
      "Skipping Mike-15-200m-Free.txt because it does not have enough lines.\n",
      "Skipping Mike-15-200m-IM.txt because it does not have enough lines.\n",
      "Skipping Owen-15-100m-Free.txt because it does not have enough lines.\n",
      "Skipping Ruth-13-100m-Back.txt because it does not have enough lines.\n",
      "Skipping Ruth-13-100m-Free.txt because it does not have enough lines.\n",
      "Skipping Ruth-13-200m-Back.txt because it does not have enough lines.\n",
      "Skipping Ruth-13-200m-Free.txt because it does not have enough lines.\n",
      "Skipping Ruth-13-400m-Free.txt because it does not have enough lines.\n",
      "Skipping Tasmin-15-100m-Back.txt because it does not have enough lines.\n",
      "Skipping Tasmin-15-100m-Breast.txt because it does not have enough lines.\n",
      "Skipping Tasmin-15-100m-Free.txt because it does not have enough lines.\n",
      "Skipping Tasmin-15-200m-Breast.txt because it does not have enough lines.\n"
     ]
    }
   ],
   "source": [
    "for filename in swimmer_files:\n",
    "    with open(os.path.join(\"swimdata\", filename), \"r\") as file:\n",
    "        lines = file.readlines()\n",
    "\n",
    "        # Check if the file has at least 4 lines\n",
    "        if len(lines) >= 4:\n",
    "            name, age, distance, stroke = lines[0].strip(), int(lines[1].strip()), lines[2].strip(), lines[3].strip()\n",
    "            swimmers.append((name, age, distance, stroke))\n",
    "        else:\n",
    "            print(f\"Skipping {filename} because it does not have enough lines.\")\n",
    "\n"
   ]
  },
  {
   "cell_type": "code",
   "execution_count": 20,
   "metadata": {},
   "outputs": [],
   "source": [
    "for swimmer in swimmers:\n",
    "    print(swimmer)"
   ]
  },
  {
   "cell_type": "code",
   "execution_count": 21,
   "metadata": {},
   "outputs": [],
   "source": [
    "SQL = \"\"\"\n",
    "    INSERT INTO swimclubs\n",
    "    (swimmername, swimmerage, swimmerdistance, swimmerstroke)\n",
    "    VALUES\n",
    "    (%s, %s, %s, %s)\n",
    "\"\"\""
   ]
  },
  {
   "cell_type": "code",
   "execution_count": 22,
   "metadata": {},
   "outputs": [],
   "source": [
    "with DBcm.UseDatabase(config) as db:\n",
    "    for swimmer in swimmers:\n",
    "        db.execute(SQL, swimmer)"
   ]
  },
  {
   "cell_type": "code",
   "execution_count": 23,
   "metadata": {},
   "outputs": [],
   "source": [
    "SQL_SELECT = \"\"\"SELECT * FROM swimclubs\"\"\""
   ]
  },
  {
   "cell_type": "code",
   "execution_count": 24,
   "metadata": {},
   "outputs": [],
   "source": [
    "with DBcm.UseDatabase(config) as db:\n",
    "    db.execute(SQL_SELECT)\n",
    "    data = db.fetchall()"
   ]
  },
  {
   "cell_type": "code",
   "execution_count": 25,
   "metadata": {},
   "outputs": [
    {
     "name": "stdout",
     "output_type": "stream",
     "text": [
      "('Steve', 92, '100M', 'Back')\n",
      "('Steve', 92, '100M', 'Back')\n",
      "('Dave', 89, '200M', 'Breast')\n",
      "('Mary', 35, '50M', 'Fly')\n",
      "('Darius', 12, '150M', 'Back')\n",
      "('Dave', 89, '200M', 'Breast')\n",
      "('Mary', 35, '50M', 'Fly')\n",
      "('Darius', 12, '150M', 'Back')\n",
      "('Steve', 92, '100M', 'Back')\n",
      "('Dave', 89, '200M', 'Breast')\n",
      "('Mary', 35, '50M', 'Fly')\n",
      "('Darius', 12, '150M', 'Back')\n",
      "('Dave', 89, '200M', 'Breast')\n",
      "('Mary', 35, '50M', 'Fly')\n",
      "('Darius', 12, '150M', 'Back')\n",
      "('Dave', 89, '200M', 'Breast')\n",
      "('Mary', 35, '50M', 'Fly')\n",
      "('Darius', 12, '150M', 'Back')\n"
     ]
    }
   ],
   "source": [
    "for row in data:\n",
    "    print(row)"
   ]
  },
  {
   "cell_type": "code",
   "execution_count": null,
   "metadata": {},
   "outputs": [],
   "source": []
  }
 ],
 "metadata": {
  "kernelspec": {
   "display_name": "Python 3",
   "language": "python",
   "name": "python3"
  },
  "language_info": {
   "codemirror_mode": {
    "name": "ipython",
    "version": 3
   },
   "file_extension": ".py",
   "mimetype": "text/x-python",
   "name": "python",
   "nbconvert_exporter": "python",
   "pygments_lexer": "ipython3",
   "version": "3.12.0"
  }
 },
 "nbformat": 4,
 "nbformat_minor": 2
}
