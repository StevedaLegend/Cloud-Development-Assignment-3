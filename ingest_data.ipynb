{
 "cells": [
  {
   "cell_type": "code",
   "execution_count": 1257,
   "metadata": {},
   "outputs": [
    {
     "name": "stdout",
     "output_type": "stream",
     "text": [
      "Requirement already satisfied: DBcm in c:\\users\\denis\\appdata\\local\\programs\\python\\python312\\lib\\site-packages (2.1)\n",
      "Requirement already satisfied: mysql-connector-python in c:\\users\\denis\\appdata\\local\\programs\\python\\python312\\lib\\site-packages (from DBcm) (8.1.0)\n",
      "Requirement already satisfied: protobuf<=4.21.12,>=4.21.1 in c:\\users\\denis\\appdata\\local\\programs\\python\\python312\\lib\\site-packages (from mysql-connector-python->DBcm) (4.21.12)\n",
      "Note: you may need to restart the kernel to use updated packages.\n"
     ]
    }
   ],
   "source": [
    "%pip install --upgrade DBcm"
   ]
  },
  {
   "cell_type": "code",
   "execution_count": 1258,
   "metadata": {},
   "outputs": [],
   "source": [
    "config = {\n",
    "\n",
    "    \"user\": \"swimuser\",\n",
    "    \"password\": \"swimuserpasswd\",\n",
    "    \"database\": \"swimclubdb\",\n",
    "    \"host\": \"localhost\",    \n",
    "}"
   ]
  },
  {
   "cell_type": "code",
   "execution_count": 1259,
   "metadata": {},
   "outputs": [],
   "source": [
    "with open(\"ingest_data.ipynb\") as f:\n",
    "    data = f.read()"
   ]
  },
  {
   "cell_type": "code",
   "execution_count": 1260,
   "metadata": {},
   "outputs": [],
   "source": [
    "import DBcm "
   ]
  },
  {
   "cell_type": "code",
   "execution_count": 1261,
   "metadata": {},
   "outputs": [],
   "source": [
    "with DBcm.UseDatabase(config) as db:\n",
    "    SQL = \"\"\" show tables \"\"\"\n",
    "    db.execute(SQL)\n",
    "    results = db.fetchall()"
   ]
  },
  {
   "cell_type": "code",
   "execution_count": 1262,
   "metadata": {},
   "outputs": [
    {
     "data": {
      "text/plain": [
       "[('events',), ('people',), ('swimclubs',), ('swimmers',), ('times',)]"
      ]
     },
     "execution_count": 1262,
     "metadata": {},
     "output_type": "execute_result"
    }
   ],
   "source": [
    "results"
   ]
  },
  {
   "cell_type": "code",
   "execution_count": 1263,
   "metadata": {},
   "outputs": [
    {
     "data": {
      "text/plain": [
       "str"
      ]
     },
     "execution_count": 1263,
     "metadata": {},
     "output_type": "execute_result"
    }
   ],
   "source": [
    "type(  (\"swimclubs\")  )"
   ]
  },
  {
   "cell_type": "code",
   "execution_count": 1264,
   "metadata": {},
   "outputs": [
    {
     "data": {
      "text/plain": [
       "str"
      ]
     },
     "execution_count": 1264,
     "metadata": {},
     "output_type": "execute_result"
    }
   ],
   "source": [
    "type (  (\"swimclubs,\") )"
   ]
  },
  {
   "cell_type": "code",
   "execution_count": 1265,
   "metadata": {},
   "outputs": [
    {
     "data": {
      "text/plain": [
       "[('events',), ('people',), ('swimclubs',), ('swimmers',), ('times',)]"
      ]
     },
     "execution_count": 1265,
     "metadata": {},
     "output_type": "execute_result"
    }
   ],
   "source": [
    "results"
   ]
  },
  {
   "cell_type": "code",
   "execution_count": 1266,
   "metadata": {},
   "outputs": [
    {
     "name": "stdout",
     "output_type": "stream",
     "text": [
      "['ConnectionError', 'CredentialsError', 'SQLError', 'UseDatabase', '__builtins__', '__cached__', '__doc__', '__file__', '__loader__', '__name__', '__package__', '__spec__', 'mysql', 'sqlite3']\n"
     ]
    }
   ],
   "source": [
    "print(dir(DBcm))"
   ]
  },
  {
   "cell_type": "code",
   "execution_count": 1267,
   "metadata": {},
   "outputs": [],
   "source": [
    "with DBcm.UseDatabase(config) as db:\n",
    "    SQL = \"\"\"show databases\"\"\"\n",
    "    db.execute(SQL)\n",
    "    results = db.fetchall()"
   ]
  },
  {
   "cell_type": "code",
   "execution_count": 1268,
   "metadata": {},
   "outputs": [
    {
     "data": {
      "text/plain": [
       "[('information_schema',), ('swimclubdb',)]"
      ]
     },
     "execution_count": 1268,
     "metadata": {},
     "output_type": "execute_result"
    }
   ],
   "source": [
    "results"
   ]
  },
  {
   "cell_type": "code",
   "execution_count": 1269,
   "metadata": {},
   "outputs": [],
   "source": [
    "with DBcm.UseDatabase(config) as db:\n",
    "    SQL = \"\"\" describe swimmers\"\"\"\n",
    "    db.execute(SQL)\n",
    "    results = db.fetchall()"
   ]
  },
  {
   "cell_type": "code",
   "execution_count": 1270,
   "metadata": {},
   "outputs": [
    {
     "data": {
      "text/plain": [
       "[('id', 'int(11)', 'NO', 'PRI', None, 'auto_increment'),\n",
       " ('name', 'varchar(64)', 'YES', '', None, ''),\n",
       " ('age', 'int(11)', 'YES', '', None, '')]"
      ]
     },
     "execution_count": 1270,
     "metadata": {},
     "output_type": "execute_result"
    }
   ],
   "source": [
    "results"
   ]
  },
  {
   "cell_type": "code",
   "execution_count": 1271,
   "metadata": {},
   "outputs": [],
   "source": [
    "# SQL = \"\"\"    \n",
    "#     INSERT INTO swimclubs\n",
    "#     (swimmername, swimmerage, swimmerdistance, swimmerstroke)\n",
    "#     VALUES\n",
    "#     ('Steve', 5, '100M', 'Back')\n",
    "# \"\"\""
   ]
  },
  {
   "cell_type": "code",
   "execution_count": 1272,
   "metadata": {},
   "outputs": [
    {
     "name": "stdout",
     "output_type": "stream",
     "text": [
      " describe swimmers\n"
     ]
    }
   ],
   "source": [
    "print(SQL)"
   ]
  },
  {
   "cell_type": "code",
   "execution_count": 1273,
   "metadata": {},
   "outputs": [],
   "source": [
    "# with DBcm.UseDatabase(config) as db:\n",
    "#     db.execute(SQL)"
   ]
  },
  {
   "cell_type": "code",
   "execution_count": 1274,
   "metadata": {},
   "outputs": [],
   "source": [
    "SQL = \"\"\" \n",
    "    SELECT * from swimmers\n",
    "\"\"\"\n",
    "with DBcm.UseDatabase(config) as db:\n",
    "    db.execute(SQL)\n",
    "    rows = db.fetchall()   #  db.fetchone() and db.fetchmany()"
   ]
  },
  {
   "cell_type": "code",
   "execution_count": 1275,
   "metadata": {},
   "outputs": [
    {
     "data": {
      "text/plain": [
       "[(1, 'Erika', 15),\n",
       " (2, 'Katie', 9),\n",
       " (3, 'Emma', 13),\n",
       " (4, 'Abi', 10),\n",
       " (5, 'Aurora', 13),\n",
       " (6, 'Alison', 14),\n",
       " (7, 'Ruth', 13),\n",
       " (8, 'Owen', 15),\n",
       " (9, 'Hannah', 13),\n",
       " (10, 'Tasmin', 15),\n",
       " (11, 'Darius', 13),\n",
       " (12, 'Lizzie', 14),\n",
       " (13, 'Blake', 15),\n",
       " (14, 'Carl', 15),\n",
       " (15, 'Calvin', 9),\n",
       " (16, 'Maria', 9),\n",
       " (17, 'Mike', 15),\n",
       " (18, 'Bill', 18),\n",
       " (19, 'Ali', 12),\n",
       " (20, 'Elba', 14),\n",
       " (21, 'Dave', 17),\n",
       " (22, 'Chris', 17),\n",
       " (23, 'Erika', 15),\n",
       " (24, 'Katie', 9),\n",
       " (25, 'Emma', 13),\n",
       " (26, 'Abi', 10),\n",
       " (27, 'Aurora', 13),\n",
       " (28, 'Alison', 14),\n",
       " (29, 'Ruth', 13),\n",
       " (30, 'Owen', 15),\n",
       " (31, 'Hannah', 13),\n",
       " (32, 'Tasmin', 15),\n",
       " (33, 'Darius', 13),\n",
       " (34, 'Lizzie', 14),\n",
       " (35, 'Blake', 15),\n",
       " (36, 'Carl', 15),\n",
       " (37, 'Calvin', 9),\n",
       " (38, 'Maria', 9),\n",
       " (39, 'Mike', 15),\n",
       " (40, 'Bill', 18),\n",
       " (41, 'Ali', 12),\n",
       " (42, 'Elba', 14),\n",
       " (43, 'Dave', 17),\n",
       " (44, 'Chris', 17),\n",
       " (45, 'Erika', 15),\n",
       " (46, 'Katie', 9),\n",
       " (47, 'Emma', 13),\n",
       " (48, 'Abi', 10),\n",
       " (49, 'Aurora', 13),\n",
       " (50, 'Alison', 14),\n",
       " (51, 'Ruth', 13),\n",
       " (52, 'Owen', 15),\n",
       " (53, 'Hannah', 13),\n",
       " (54, 'Tasmin', 15),\n",
       " (55, 'Darius', 13),\n",
       " (56, 'Lizzie', 14),\n",
       " (57, 'Blake', 15),\n",
       " (58, 'Carl', 15),\n",
       " (59, 'Calvin', 9),\n",
       " (60, 'Maria', 9),\n",
       " (61, 'Mike', 15),\n",
       " (62, 'Bill', 18),\n",
       " (63, 'Ali', 12),\n",
       " (64, 'Elba', 14),\n",
       " (65, 'Dave', 17),\n",
       " (66, 'Chris', 17)]"
      ]
     },
     "execution_count": 1275,
     "metadata": {},
     "output_type": "execute_result"
    }
   ],
   "source": [
    "rows"
   ]
  },
  {
   "cell_type": "code",
   "execution_count": 1276,
   "metadata": {},
   "outputs": [],
   "source": [
    "# data = set()\n",
    "# swimmers = (\n",
    "#     (\"Steve\", 21, \"150M\", \"Breast\"),\n",
    "#     (\"Alex\", 19, \"100M\", \"Back\"),\n",
    "#     (\"Darius\", 9, \"50M\", \"Stroke\")\n",
    "# )\n",
    "# data.add(swimmers)"
   ]
  },
  {
   "cell_type": "code",
   "execution_count": 1277,
   "metadata": {},
   "outputs": [],
   "source": [
    "# SQL = \"\"\"    \n",
    "#     INSERT INTO people\n",
    "#     (name, age, location)\n",
    "#     VALUES\n",
    "#     (%s, %s, %s, %s)\n",
    "# \"\"\"\n",
    "\n",
    "\n",
    "SQL = \"\"\"    \n",
    "    INSERT INTO swimclubs\n",
    "    (swimmername, swimmerage, swimmerdistance, swimmerstroke)\n",
    "    VALUES\n",
    "    (%s, %s, %s, %s)\n",
    "\"\"\""
   ]
  },
  {
   "cell_type": "code",
   "execution_count": 1278,
   "metadata": {},
   "outputs": [],
   "source": [
    "# for swimmer in swimmers:\n",
    "#     print(swimmer)"
   ]
  },
  {
   "cell_type": "code",
   "execution_count": 1279,
   "metadata": {},
   "outputs": [],
   "source": [
    "# for swimmer in swimmers:\n",
    "#     with DBcm.UseDatabase(config) as db:\n",
    "#         db.execute(SQL, swimmer)"
   ]
  },
  {
   "cell_type": "code",
   "execution_count": 1280,
   "metadata": {},
   "outputs": [],
   "source": [
    "import os \n",
    "swimdata = \"swimdata/\"\n",
    "\n",
    "def read_swimmer_data(swimdata):\n",
    "    name, age, distance, stroke = swimdata.removesuffix(\".txt\").split(\"-\")\n",
    "    return name, age, distance, stroke\n",
    "\n",
    "def swimmerinfo(pathway):\n",
    "    files = [file for file in os.listdir(pathway) if file.endswith(\".txt\")]\n",
    "    data = set()\n",
    "    for file in files:\n",
    "        name, age, distance, stroke = read_swimmer_data(file)\n",
    "        data.add((name, age, distance, stroke))\n",
    "    return data\n",
    "        # file_path = os.path.join(swimdata, file)\n",
    "        # swimmer_data = read_swimmer_data(file_path)\n",
    "        # db.execute(SQL, swimmer_data)\n"
   ]
  },
  {
   "cell_type": "code",
   "execution_count": 1281,
   "metadata": {},
   "outputs": [],
   "source": [
    "data = swimmerinfo(\"swimdata/\")"
   ]
  },
  {
   "cell_type": "code",
   "execution_count": 1282,
   "metadata": {},
   "outputs": [],
   "source": [
    "\n",
    "swimmers = set()\n",
    "events = set()\n",
    "\n",
    "\n",
    "for n, a, d, s in data:\n",
    "    swimmers.add( (n, a) )\n",
    "    events.add( (d,  s) )\n",
    "\n",
    "\n"
   ]
  },
  {
   "cell_type": "code",
   "execution_count": 1283,
   "metadata": {},
   "outputs": [
    {
     "data": {
      "text/plain": [
       "{('Abi', '10'),\n",
       " ('Ali', '12'),\n",
       " ('Alison', '14'),\n",
       " ('Aurora', '13'),\n",
       " ('Bill', '18'),\n",
       " ('Blake', '15'),\n",
       " ('Calvin', '9'),\n",
       " ('Carl', '15'),\n",
       " ('Chris', '17'),\n",
       " ('Darius', '13'),\n",
       " ('Dave', '17'),\n",
       " ('Elba', '14'),\n",
       " ('Emma', '13'),\n",
       " ('Erika', '15'),\n",
       " ('Hannah', '13'),\n",
       " ('Katie', '9'),\n",
       " ('Lizzie', '14'),\n",
       " ('Maria', '9'),\n",
       " ('Mike', '15'),\n",
       " ('Owen', '15'),\n",
       " ('Ruth', '13'),\n",
       " ('Tasmin', '15')}"
      ]
     },
     "execution_count": 1283,
     "metadata": {},
     "output_type": "execute_result"
    }
   ],
   "source": [
    "swimmers"
   ]
  },
  {
   "cell_type": "code",
   "execution_count": 1284,
   "metadata": {},
   "outputs": [
    {
     "data": {
      "text/plain": [
       "['Darius', '13', 'Fly', '100']"
      ]
     },
     "execution_count": 1284,
     "metadata": {},
     "output_type": "execute_result"
    }
   ],
   "source": [
    "\"Darius-13-Fly-100.txt\".removesuffix(\".txt\").split(\"-\")"
   ]
  },
  {
   "cell_type": "code",
   "execution_count": 1285,
   "metadata": {},
   "outputs": [],
   "source": [
    "SQL = \"\"\"    \n",
    "    INSERT INTO swimmers\n",
    "    (name, age)\n",
    "    VALUES\n",
    "    (%s, %s)\n",
    "\"\"\""
   ]
  },
  {
   "cell_type": "code",
   "execution_count": 1286,
   "metadata": {},
   "outputs": [],
   "source": [
    "with DBcm.UseDatabase(config) as db:\n",
    "     db.executemany(SQL, swimmers)"
   ]
  },
  {
   "cell_type": "code",
   "execution_count": 1287,
   "metadata": {},
   "outputs": [],
   "source": [
    "SQL = \"\"\"    \n",
    "    INSERT INTO events\n",
    "    (distance, stroke)\n",
    "    VALUES\n",
    "    (%s, %s)\n",
    "\"\"\""
   ]
  },
  {
   "cell_type": "code",
   "execution_count": 1288,
   "metadata": {},
   "outputs": [],
   "source": [
    "with DBcm.UseDatabase(config) as db:\n",
    "     db.executemany(SQL, events)"
   ]
  },
  {
   "cell_type": "code",
   "execution_count": 1289,
   "metadata": {},
   "outputs": [
    {
     "data": {
      "text/plain": [
       "[(1, 'Erika', 15),\n",
       " (2, 'Katie', 9),\n",
       " (3, 'Emma', 13),\n",
       " (4, 'Abi', 10),\n",
       " (5, 'Aurora', 13),\n",
       " (6, 'Alison', 14),\n",
       " (7, 'Ruth', 13),\n",
       " (8, 'Owen', 15),\n",
       " (9, 'Hannah', 13),\n",
       " (10, 'Tasmin', 15),\n",
       " (11, 'Darius', 13),\n",
       " (12, 'Lizzie', 14),\n",
       " (13, 'Blake', 15),\n",
       " (14, 'Carl', 15),\n",
       " (15, 'Calvin', 9),\n",
       " (16, 'Maria', 9),\n",
       " (17, 'Mike', 15),\n",
       " (18, 'Bill', 18),\n",
       " (19, 'Ali', 12),\n",
       " (20, 'Elba', 14),\n",
       " (21, 'Dave', 17),\n",
       " (22, 'Chris', 17),\n",
       " (23, 'Erika', 15),\n",
       " (24, 'Katie', 9),\n",
       " (25, 'Emma', 13),\n",
       " (26, 'Abi', 10),\n",
       " (27, 'Aurora', 13),\n",
       " (28, 'Alison', 14),\n",
       " (29, 'Ruth', 13),\n",
       " (30, 'Owen', 15),\n",
       " (31, 'Hannah', 13),\n",
       " (32, 'Tasmin', 15),\n",
       " (33, 'Darius', 13),\n",
       " (34, 'Lizzie', 14),\n",
       " (35, 'Blake', 15),\n",
       " (36, 'Carl', 15),\n",
       " (37, 'Calvin', 9),\n",
       " (38, 'Maria', 9),\n",
       " (39, 'Mike', 15),\n",
       " (40, 'Bill', 18),\n",
       " (41, 'Ali', 12),\n",
       " (42, 'Elba', 14),\n",
       " (43, 'Dave', 17),\n",
       " (44, 'Chris', 17),\n",
       " (45, 'Erika', 15),\n",
       " (46, 'Katie', 9),\n",
       " (47, 'Emma', 13),\n",
       " (48, 'Abi', 10),\n",
       " (49, 'Aurora', 13),\n",
       " (50, 'Alison', 14),\n",
       " (51, 'Ruth', 13),\n",
       " (52, 'Owen', 15),\n",
       " (53, 'Hannah', 13),\n",
       " (54, 'Tasmin', 15),\n",
       " (55, 'Darius', 13),\n",
       " (56, 'Lizzie', 14),\n",
       " (57, 'Blake', 15),\n",
       " (58, 'Carl', 15),\n",
       " (59, 'Calvin', 9),\n",
       " (60, 'Maria', 9),\n",
       " (61, 'Mike', 15),\n",
       " (62, 'Bill', 18),\n",
       " (63, 'Ali', 12),\n",
       " (64, 'Elba', 14),\n",
       " (65, 'Dave', 17),\n",
       " (66, 'Chris', 17),\n",
       " (67, 'Erika', 15),\n",
       " (68, 'Katie', 9),\n",
       " (69, 'Emma', 13),\n",
       " (70, 'Abi', 10),\n",
       " (71, 'Aurora', 13),\n",
       " (72, 'Alison', 14),\n",
       " (73, 'Ruth', 13),\n",
       " (74, 'Owen', 15),\n",
       " (75, 'Hannah', 13),\n",
       " (76, 'Tasmin', 15),\n",
       " (77, 'Darius', 13),\n",
       " (78, 'Lizzie', 14),\n",
       " (79, 'Blake', 15),\n",
       " (80, 'Carl', 15),\n",
       " (81, 'Calvin', 9),\n",
       " (82, 'Maria', 9),\n",
       " (83, 'Mike', 15),\n",
       " (84, 'Bill', 18),\n",
       " (85, 'Ali', 12),\n",
       " (86, 'Elba', 14),\n",
       " (87, 'Dave', 17),\n",
       " (88, 'Chris', 17)]"
      ]
     },
     "execution_count": 1289,
     "metadata": {},
     "output_type": "execute_result"
    }
   ],
   "source": [
    "SQL = \"\"\"SELECT * FROM swimmers\"\"\"\n",
    "\n",
    "with DBcm.UseDatabase(config) as db:\n",
    "    db.execute(SQL)\n",
    "    data = db.fetchall()\n",
    "\n",
    "data"
   ]
  },
  {
   "cell_type": "code",
   "execution_count": null,
   "metadata": {},
   "outputs": [],
   "source": []
  }
 ],
 "metadata": {
  "kernelspec": {
   "display_name": "Python 3",
   "language": "python",
   "name": "python3"
  },
  "language_info": {
   "codemirror_mode": {
    "name": "ipython",
    "version": 3
   },
   "file_extension": ".py",
   "mimetype": "text/x-python",
   "name": "python",
   "nbconvert_exporter": "python",
   "pygments_lexer": "ipython3",
   "version": "3.12.0"
  }
 },
 "nbformat": 4,
 "nbformat_minor": 2
}
