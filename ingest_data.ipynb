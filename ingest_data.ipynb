{
 "cells": [
  {
   "cell_type": "code",
   "execution_count": 227,
   "metadata": {},
   "outputs": [
    {
     "name": "stdout",
     "output_type": "stream",
     "text": [
      "Requirement already satisfied: DBcm in c:\\users\\denis\\appdata\\local\\programs\\python\\python312\\lib\\site-packages (2.1)\n",
      "Requirement already satisfied: mysql-connector-python in c:\\users\\denis\\appdata\\local\\programs\\python\\python312\\lib\\site-packages (from DBcm) (8.1.0)\n",
      "Requirement already satisfied: protobuf<=4.21.12,>=4.21.1 in c:\\users\\denis\\appdata\\local\\programs\\python\\python312\\lib\\site-packages (from mysql-connector-python->DBcm) (4.21.12)\n",
      "Note: you may need to restart the kernel to use updated packages.\n"
     ]
    }
   ],
   "source": [
    "%pip install --upgrade DBcm"
   ]
  },
  {
   "cell_type": "code",
   "execution_count": 228,
   "metadata": {},
   "outputs": [],
   "source": [
    "config = {\n",
    "\n",
    "    \"user\": \"swimuser\",\n",
    "    \"password\": \"swimuserpasswd\",\n",
    "    \"database\": \"swimclubdb\",\n",
    "    \"host\": \"localhost\",    \n",
    "}"
   ]
  },
  {
   "cell_type": "code",
   "execution_count": 229,
   "metadata": {},
   "outputs": [],
   "source": [
    "with open(\"ingest_data.ipynb\", encoding=\"utf-8\") as f:\n",
    "    data = f.read()\n"
   ]
  },
  {
   "cell_type": "code",
   "execution_count": 230,
   "metadata": {},
   "outputs": [],
   "source": [
    "import DBcm "
   ]
  },
  {
   "cell_type": "code",
   "execution_count": 231,
   "metadata": {},
   "outputs": [],
   "source": [
    "with DBcm.UseDatabase(config) as db:\n",
    "    SQL = \"\"\" show tables \"\"\"\n",
    "    db.execute(SQL)\n",
    "    results = db.fetchall()"
   ]
  },
  {
   "cell_type": "code",
   "execution_count": 232,
   "metadata": {},
   "outputs": [
    {
     "data": {
      "text/plain": [
       "[('events',), ('people',), ('swimclubs',), ('swimmers',), ('times',)]"
      ]
     },
     "execution_count": 232,
     "metadata": {},
     "output_type": "execute_result"
    }
   ],
   "source": [
    "results"
   ]
  },
  {
   "cell_type": "code",
   "execution_count": 233,
   "metadata": {},
   "outputs": [
    {
     "data": {
      "text/plain": [
       "str"
      ]
     },
     "execution_count": 233,
     "metadata": {},
     "output_type": "execute_result"
    }
   ],
   "source": [
    "type(  (\"swimclubs\")  )"
   ]
  },
  {
   "cell_type": "code",
   "execution_count": 234,
   "metadata": {},
   "outputs": [
    {
     "data": {
      "text/plain": [
       "str"
      ]
     },
     "execution_count": 234,
     "metadata": {},
     "output_type": "execute_result"
    }
   ],
   "source": [
    "type (  (\"swimclubs,\") )"
   ]
  },
  {
   "cell_type": "code",
   "execution_count": 235,
   "metadata": {},
   "outputs": [
    {
     "data": {
      "text/plain": [
       "[('events',), ('people',), ('swimclubs',), ('swimmers',), ('times',)]"
      ]
     },
     "execution_count": 235,
     "metadata": {},
     "output_type": "execute_result"
    }
   ],
   "source": [
    "results"
   ]
  },
  {
   "cell_type": "code",
   "execution_count": 236,
   "metadata": {},
   "outputs": [
    {
     "name": "stdout",
     "output_type": "stream",
     "text": [
      "['ConnectionError', 'CredentialsError', 'SQLError', 'UseDatabase', '__builtins__', '__cached__', '__doc__', '__file__', '__loader__', '__name__', '__package__', '__spec__', 'mysql', 'sqlite3']\n"
     ]
    }
   ],
   "source": [
    "print(dir(DBcm))"
   ]
  },
  {
   "cell_type": "code",
   "execution_count": 237,
   "metadata": {},
   "outputs": [],
   "source": [
    "with DBcm.UseDatabase(config) as db:\n",
    "    SQL = \"\"\"show databases\"\"\"\n",
    "    db.execute(SQL)\n",
    "    results = db.fetchall()"
   ]
  },
  {
   "cell_type": "code",
   "execution_count": 238,
   "metadata": {},
   "outputs": [
    {
     "data": {
      "text/plain": [
       "[('information_schema',), ('swimclubdb',)]"
      ]
     },
     "execution_count": 238,
     "metadata": {},
     "output_type": "execute_result"
    }
   ],
   "source": [
    "results"
   ]
  },
  {
   "cell_type": "code",
   "execution_count": 239,
   "metadata": {},
   "outputs": [],
   "source": [
    "with DBcm.UseDatabase(config) as db:\n",
    "    SQL = \"\"\" describe swimmers\"\"\"\n",
    "    db.execute(SQL)\n",
    "    results = db.fetchall()"
   ]
  },
  {
   "cell_type": "code",
   "execution_count": 240,
   "metadata": {},
   "outputs": [
    {
     "data": {
      "text/plain": [
       "[('id', 'int(11)', 'NO', 'PRI', None, 'auto_increment'),\n",
       " ('name', 'varchar(64)', 'YES', '', None, ''),\n",
       " ('age', 'int(11)', 'YES', '', None, '')]"
      ]
     },
     "execution_count": 240,
     "metadata": {},
     "output_type": "execute_result"
    }
   ],
   "source": [
    "results"
   ]
  },
  {
   "cell_type": "code",
   "execution_count": 241,
   "metadata": {},
   "outputs": [],
   "source": [
    "# SQL = \"\"\"    \n",
    "#     INSERT INTO swimclubs\n",
    "#     (swimmername, swimmerage, swimmerdistance, swimmerstroke)\n",
    "#     VALUES\n",
    "#     ('Steve', 5, '100M', 'Back')\n",
    "# \"\"\""
   ]
  },
  {
   "cell_type": "code",
   "execution_count": 242,
   "metadata": {},
   "outputs": [
    {
     "name": "stdout",
     "output_type": "stream",
     "text": [
      " describe swimmers\n"
     ]
    }
   ],
   "source": [
    "print(SQL)"
   ]
  },
  {
   "cell_type": "code",
   "execution_count": 243,
   "metadata": {},
   "outputs": [],
   "source": [
    "# with DBcm.UseDatabase(config) as db:\n",
    "#     db.execute(SQL)"
   ]
  },
  {
   "cell_type": "code",
   "execution_count": 244,
   "metadata": {},
   "outputs": [],
   "source": [
    "SQL = \"\"\" \n",
    "    SELECT * from swimmers\n",
    "\"\"\"\n",
    "with DBcm.UseDatabase(config) as db:\n",
    "    db.execute(SQL)\n",
    "    rows = db.fetchall()   #  db.fetchone() and db.fetchmany()"
   ]
  },
  {
   "cell_type": "code",
   "execution_count": 245,
   "metadata": {},
   "outputs": [
    {
     "data": {
      "text/plain": [
       "[(155, 'Chris', 17),\n",
       " (156, 'Owen', 15),\n",
       " (157, 'Aurora', 13),\n",
       " (158, 'Ali', 12),\n",
       " (159, 'Hannah', 13),\n",
       " (160, 'Tasmin', 15),\n",
       " (161, 'Abi', 10),\n",
       " (162, 'Carl', 15),\n",
       " (163, 'Emma', 13),\n",
       " (164, 'Ruth', 13),\n",
       " (165, 'Calvin', 9),\n",
       " (166, 'Mike', 15),\n",
       " (167, 'Maria', 9),\n",
       " (168, 'Dave', 17),\n",
       " (169, 'Darius', 13),\n",
       " (170, 'Erika', 15),\n",
       " (171, 'Elba', 14),\n",
       " (172, 'Alison', 14),\n",
       " (173, 'Katie', 9),\n",
       " (174, 'Bill', 18),\n",
       " (175, 'Lizzie', 14),\n",
       " (176, 'Blake', 15),\n",
       " (177, 'Chris', 17),\n",
       " (178, 'Owen', 15),\n",
       " (179, 'Aurora', 13),\n",
       " (180, 'Ali', 12),\n",
       " (181, 'Hannah', 13),\n",
       " (182, 'Tasmin', 15),\n",
       " (183, 'Abi', 10),\n",
       " (184, 'Carl', 15),\n",
       " (185, 'Emma', 13),\n",
       " (186, 'Ruth', 13),\n",
       " (187, 'Calvin', 9),\n",
       " (188, 'Mike', 15),\n",
       " (189, 'Maria', 9),\n",
       " (190, 'Dave', 17),\n",
       " (191, 'Darius', 13),\n",
       " (192, 'Erika', 15),\n",
       " (193, 'Elba', 14),\n",
       " (194, 'Alison', 14),\n",
       " (195, 'Katie', 9),\n",
       " (196, 'Bill', 18),\n",
       " (197, 'Lizzie', 14),\n",
       " (198, 'Blake', 15),\n",
       " (199, 'Ruth', 13),\n",
       " (200, 'Carl', 15),\n",
       " (201, 'Aurora', 13),\n",
       " (202, 'Ali', 12),\n",
       " (203, 'Elba', 14),\n",
       " (204, 'Emma', 13),\n",
       " (205, 'Chris', 17),\n",
       " (206, 'Alison', 14),\n",
       " (207, 'Calvin', 9),\n",
       " (208, 'Tasmin', 15),\n",
       " (209, 'Mike', 15),\n",
       " (210, 'Bill', 18),\n",
       " (211, 'Maria', 9),\n",
       " (212, 'Owen', 15),\n",
       " (213, 'Lizzie', 14),\n",
       " (214, 'Dave', 17),\n",
       " (215, 'Abi', 10),\n",
       " (216, 'Hannah', 13),\n",
       " (217, 'Erika', 15),\n",
       " (218, 'Katie', 9),\n",
       " (219, 'Darius', 13),\n",
       " (220, 'Blake', 15),\n",
       " (221, 'Ruth', 13),\n",
       " (222, 'Carl', 15),\n",
       " (223, 'Aurora', 13),\n",
       " (224, 'Ali', 12),\n",
       " (225, 'Elba', 14),\n",
       " (226, 'Emma', 13),\n",
       " (227, 'Chris', 17),\n",
       " (228, 'Alison', 14),\n",
       " (229, 'Calvin', 9),\n",
       " (230, 'Tasmin', 15),\n",
       " (231, 'Mike', 15),\n",
       " (232, 'Bill', 18),\n",
       " (233, 'Maria', 9),\n",
       " (234, 'Owen', 15),\n",
       " (235, 'Lizzie', 14),\n",
       " (236, 'Dave', 17),\n",
       " (237, 'Abi', 10),\n",
       " (238, 'Hannah', 13),\n",
       " (239, 'Erika', 15),\n",
       " (240, 'Katie', 9),\n",
       " (241, 'Darius', 13),\n",
       " (242, 'Blake', 15),\n",
       " (243, 'Ruth', 13),\n",
       " (244, 'Carl', 15),\n",
       " (245, 'Aurora', 13),\n",
       " (246, 'Ali', 12),\n",
       " (247, 'Elba', 14),\n",
       " (248, 'Emma', 13),\n",
       " (249, 'Chris', 17),\n",
       " (250, 'Alison', 14),\n",
       " (251, 'Calvin', 9),\n",
       " (252, 'Tasmin', 15),\n",
       " (253, 'Mike', 15),\n",
       " (254, 'Bill', 18),\n",
       " (255, 'Maria', 9),\n",
       " (256, 'Owen', 15),\n",
       " (257, 'Lizzie', 14),\n",
       " (258, 'Dave', 17),\n",
       " (259, 'Abi', 10),\n",
       " (260, 'Hannah', 13),\n",
       " (261, 'Erika', 15),\n",
       " (262, 'Katie', 9),\n",
       " (263, 'Darius', 13),\n",
       " (264, 'Blake', 15),\n",
       " (265, 'Ruth', 13),\n",
       " (266, 'Carl', 15),\n",
       " (267, 'Aurora', 13),\n",
       " (268, 'Ali', 12),\n",
       " (269, 'Elba', 14),\n",
       " (270, 'Emma', 13),\n",
       " (271, 'Chris', 17),\n",
       " (272, 'Alison', 14),\n",
       " (273, 'Calvin', 9),\n",
       " (274, 'Tasmin', 15),\n",
       " (275, 'Mike', 15),\n",
       " (276, 'Bill', 18),\n",
       " (277, 'Maria', 9),\n",
       " (278, 'Owen', 15),\n",
       " (279, 'Lizzie', 14),\n",
       " (280, 'Dave', 17),\n",
       " (281, 'Abi', 10),\n",
       " (282, 'Hannah', 13),\n",
       " (283, 'Erika', 15),\n",
       " (284, 'Katie', 9),\n",
       " (285, 'Darius', 13),\n",
       " (286, 'Blake', 15),\n",
       " (287, 'Ruth', 13),\n",
       " (288, 'Carl', 15),\n",
       " (289, 'Aurora', 13),\n",
       " (290, 'Ali', 12),\n",
       " (291, 'Elba', 14),\n",
       " (292, 'Emma', 13),\n",
       " (293, 'Chris', 17),\n",
       " (294, 'Alison', 14),\n",
       " (295, 'Calvin', 9),\n",
       " (296, 'Tasmin', 15),\n",
       " (297, 'Mike', 15),\n",
       " (298, 'Bill', 18),\n",
       " (299, 'Maria', 9),\n",
       " (300, 'Owen', 15),\n",
       " (301, 'Lizzie', 14),\n",
       " (302, 'Dave', 17),\n",
       " (303, 'Abi', 10),\n",
       " (304, 'Hannah', 13),\n",
       " (305, 'Erika', 15),\n",
       " (306, 'Katie', 9),\n",
       " (307, 'Darius', 13),\n",
       " (308, 'Blake', 15)]"
      ]
     },
     "execution_count": 245,
     "metadata": {},
     "output_type": "execute_result"
    }
   ],
   "source": [
    "rows"
   ]
  },
  {
   "cell_type": "code",
   "execution_count": 246,
   "metadata": {},
   "outputs": [],
   "source": [
    "# data = set()\n",
    "# swimmers = (\n",
    "#     (\"Steve\", 21, \"150M\", \"Breast\"),\n",
    "#     (\"Alex\", 19, \"100M\", \"Back\"),\n",
    "#     (\"Darius\", 9, \"50M\", \"Stroke\")\n",
    "# )\n",
    "# data.add(swimmers)"
   ]
  },
  {
   "cell_type": "code",
   "execution_count": 247,
   "metadata": {},
   "outputs": [],
   "source": [
    "# SQL = \"\"\"    \n",
    "#     INSERT INTO people\n",
    "#     (name, age, location)\n",
    "#     VALUES\n",
    "#     (%s, %s, %s, %s)\n",
    "# \"\"\"\n",
    "\n",
    "\n",
    "SQL = \"\"\"    \n",
    "    INSERT INTO swimclubs\n",
    "    (swimmername, swimmerage, swimmerdistance, swimmerstroke)\n",
    "    VALUES\n",
    "    (%s, %s, %s, %s)\n",
    "\"\"\""
   ]
  },
  {
   "cell_type": "code",
   "execution_count": 248,
   "metadata": {},
   "outputs": [],
   "source": [
    "# for swimmer in swimmers:\n",
    "#     print(swimmer)"
   ]
  },
  {
   "cell_type": "code",
   "execution_count": 249,
   "metadata": {},
   "outputs": [],
   "source": [
    "# for swimmer in swimmers:\n",
    "#     with DBcm.UseDatabase(config) as db:\n",
    "#         db.execute(SQL, swimmer)"
   ]
  },
  {
   "cell_type": "code",
   "execution_count": 250,
   "metadata": {},
   "outputs": [],
   "source": [
    "import os \n",
    "swimdata = \"swimdata/\"\n",
    "\n",
    "def read_swimmer_data(swimdata):\n",
    "    name, age, distance, stroke = swimdata.removesuffix(\".txt\").split(\"-\")\n",
    "    return name, age, distance, stroke\n",
    "\n",
    "def swimmerinfo(pathway):\n",
    "    files = [file for file in os.listdir(pathway) if file.endswith(\".txt\")]\n",
    "    data = set()\n",
    "    for file in files:\n",
    "        name, age, distance, stroke = read_swimmer_data(file)\n",
    "        data.add((name, age, distance, stroke))\n",
    "    return data\n",
    "        # file_path = os.path.join(swimdata, file)\n",
    "        # swimmer_data = read_swimmer_data(file_path)\n",
    "        # db.execute(SQL, swimmer_data)\n"
   ]
  },
  {
   "cell_type": "code",
   "execution_count": 251,
   "metadata": {},
   "outputs": [],
   "source": [
    "data = swimmerinfo(\"swimdata/\")"
   ]
  },
  {
   "cell_type": "code",
   "execution_count": 252,
   "metadata": {},
   "outputs": [],
   "source": [
    "\n",
    "swimmers = set()\n",
    "events = set()\n",
    "\n",
    "\n",
    "for n, a, d, s in data:\n",
    "    swimmers.add( (n, a) )\n",
    "    events.add( (d,  s) )\n",
    "\n",
    "\n"
   ]
  },
  {
   "cell_type": "code",
   "execution_count": 253,
   "metadata": {},
   "outputs": [
    {
     "data": {
      "text/plain": [
       "{('Abi', '10'),\n",
       " ('Ali', '12'),\n",
       " ('Alison', '14'),\n",
       " ('Aurora', '13'),\n",
       " ('Bill', '18'),\n",
       " ('Blake', '15'),\n",
       " ('Calvin', '9'),\n",
       " ('Carl', '15'),\n",
       " ('Chris', '17'),\n",
       " ('Darius', '13'),\n",
       " ('Dave', '17'),\n",
       " ('Elba', '14'),\n",
       " ('Emma', '13'),\n",
       " ('Erika', '15'),\n",
       " ('Hannah', '13'),\n",
       " ('Katie', '9'),\n",
       " ('Lizzie', '14'),\n",
       " ('Maria', '9'),\n",
       " ('Mike', '15'),\n",
       " ('Owen', '15'),\n",
       " ('Ruth', '13'),\n",
       " ('Tasmin', '15')}"
      ]
     },
     "execution_count": 253,
     "metadata": {},
     "output_type": "execute_result"
    }
   ],
   "source": [
    "swimmers"
   ]
  },
  {
   "cell_type": "code",
   "execution_count": 254,
   "metadata": {},
   "outputs": [
    {
     "data": {
      "text/plain": [
       "['Darius', '13', 'Fly', '100']"
      ]
     },
     "execution_count": 254,
     "metadata": {},
     "output_type": "execute_result"
    }
   ],
   "source": [
    "\"Darius-13-Fly-100.txt\".removesuffix(\".txt\").split(\"-\")"
   ]
  },
  {
   "cell_type": "code",
   "execution_count": 255,
   "metadata": {},
   "outputs": [],
   "source": [
    "# time = set()\n",
    "\n",
    "# for t, ts in data:\n",
    "    \n",
    "#     time.add( (t, ts) )"
   ]
  },
  {
   "cell_type": "code",
   "execution_count": 256,
   "metadata": {},
   "outputs": [],
   "source": [
    "#time"
   ]
  },
  {
   "cell_type": "code",
   "execution_count": 257,
   "metadata": {},
   "outputs": [],
   "source": [
    "SQL = \"\"\"    \n",
    "    INSERT INTO swimmers\n",
    "    (name, age)\n",
    "    VALUES\n",
    "    (%s, %s)\n",
    "\"\"\""
   ]
  },
  {
   "cell_type": "code",
   "execution_count": 258,
   "metadata": {},
   "outputs": [],
   "source": [
    "with DBcm.UseDatabase(config) as db:\n",
    "     db.executemany(SQL, swimmers)"
   ]
  },
  {
   "cell_type": "code",
   "execution_count": 259,
   "metadata": {},
   "outputs": [],
   "source": [
    "SQL = \"\"\"    \n",
    "    INSERT INTO events\n",
    "    (distance, stroke)\n",
    "    VALUES\n",
    "    (%s, %s)\n",
    "\"\"\""
   ]
  },
  {
   "cell_type": "code",
   "execution_count": 260,
   "metadata": {},
   "outputs": [],
   "source": [
    "with DBcm.UseDatabase(config) as db:\n",
    "     db.executemany(SQL, events)"
   ]
  },
  {
   "cell_type": "code",
   "execution_count": 261,
   "metadata": {},
   "outputs": [
    {
     "data": {
      "text/plain": [
       "[(155, 'Chris', 17),\n",
       " (156, 'Owen', 15),\n",
       " (157, 'Aurora', 13),\n",
       " (158, 'Ali', 12),\n",
       " (159, 'Hannah', 13),\n",
       " (160, 'Tasmin', 15),\n",
       " (161, 'Abi', 10),\n",
       " (162, 'Carl', 15),\n",
       " (163, 'Emma', 13),\n",
       " (164, 'Ruth', 13),\n",
       " (165, 'Calvin', 9),\n",
       " (166, 'Mike', 15),\n",
       " (167, 'Maria', 9),\n",
       " (168, 'Dave', 17),\n",
       " (169, 'Darius', 13),\n",
       " (170, 'Erika', 15),\n",
       " (171, 'Elba', 14),\n",
       " (172, 'Alison', 14),\n",
       " (173, 'Katie', 9),\n",
       " (174, 'Bill', 18),\n",
       " (175, 'Lizzie', 14),\n",
       " (176, 'Blake', 15),\n",
       " (177, 'Chris', 17),\n",
       " (178, 'Owen', 15),\n",
       " (179, 'Aurora', 13),\n",
       " (180, 'Ali', 12),\n",
       " (181, 'Hannah', 13),\n",
       " (182, 'Tasmin', 15),\n",
       " (183, 'Abi', 10),\n",
       " (184, 'Carl', 15),\n",
       " (185, 'Emma', 13),\n",
       " (186, 'Ruth', 13),\n",
       " (187, 'Calvin', 9),\n",
       " (188, 'Mike', 15),\n",
       " (189, 'Maria', 9),\n",
       " (190, 'Dave', 17),\n",
       " (191, 'Darius', 13),\n",
       " (192, 'Erika', 15),\n",
       " (193, 'Elba', 14),\n",
       " (194, 'Alison', 14),\n",
       " (195, 'Katie', 9),\n",
       " (196, 'Bill', 18),\n",
       " (197, 'Lizzie', 14),\n",
       " (198, 'Blake', 15),\n",
       " (199, 'Ruth', 13),\n",
       " (200, 'Carl', 15),\n",
       " (201, 'Aurora', 13),\n",
       " (202, 'Ali', 12),\n",
       " (203, 'Elba', 14),\n",
       " (204, 'Emma', 13),\n",
       " (205, 'Chris', 17),\n",
       " (206, 'Alison', 14),\n",
       " (207, 'Calvin', 9),\n",
       " (208, 'Tasmin', 15),\n",
       " (209, 'Mike', 15),\n",
       " (210, 'Bill', 18),\n",
       " (211, 'Maria', 9),\n",
       " (212, 'Owen', 15),\n",
       " (213, 'Lizzie', 14),\n",
       " (214, 'Dave', 17),\n",
       " (215, 'Abi', 10),\n",
       " (216, 'Hannah', 13),\n",
       " (217, 'Erika', 15),\n",
       " (218, 'Katie', 9),\n",
       " (219, 'Darius', 13),\n",
       " (220, 'Blake', 15),\n",
       " (221, 'Ruth', 13),\n",
       " (222, 'Carl', 15),\n",
       " (223, 'Aurora', 13),\n",
       " (224, 'Ali', 12),\n",
       " (225, 'Elba', 14),\n",
       " (226, 'Emma', 13),\n",
       " (227, 'Chris', 17),\n",
       " (228, 'Alison', 14),\n",
       " (229, 'Calvin', 9),\n",
       " (230, 'Tasmin', 15),\n",
       " (231, 'Mike', 15),\n",
       " (232, 'Bill', 18),\n",
       " (233, 'Maria', 9),\n",
       " (234, 'Owen', 15),\n",
       " (235, 'Lizzie', 14),\n",
       " (236, 'Dave', 17),\n",
       " (237, 'Abi', 10),\n",
       " (238, 'Hannah', 13),\n",
       " (239, 'Erika', 15),\n",
       " (240, 'Katie', 9),\n",
       " (241, 'Darius', 13),\n",
       " (242, 'Blake', 15),\n",
       " (243, 'Ruth', 13),\n",
       " (244, 'Carl', 15),\n",
       " (245, 'Aurora', 13),\n",
       " (246, 'Ali', 12),\n",
       " (247, 'Elba', 14),\n",
       " (248, 'Emma', 13),\n",
       " (249, 'Chris', 17),\n",
       " (250, 'Alison', 14),\n",
       " (251, 'Calvin', 9),\n",
       " (252, 'Tasmin', 15),\n",
       " (253, 'Mike', 15),\n",
       " (254, 'Bill', 18),\n",
       " (255, 'Maria', 9),\n",
       " (256, 'Owen', 15),\n",
       " (257, 'Lizzie', 14),\n",
       " (258, 'Dave', 17),\n",
       " (259, 'Abi', 10),\n",
       " (260, 'Hannah', 13),\n",
       " (261, 'Erika', 15),\n",
       " (262, 'Katie', 9),\n",
       " (263, 'Darius', 13),\n",
       " (264, 'Blake', 15),\n",
       " (265, 'Ruth', 13),\n",
       " (266, 'Carl', 15),\n",
       " (267, 'Aurora', 13),\n",
       " (268, 'Ali', 12),\n",
       " (269, 'Elba', 14),\n",
       " (270, 'Emma', 13),\n",
       " (271, 'Chris', 17),\n",
       " (272, 'Alison', 14),\n",
       " (273, 'Calvin', 9),\n",
       " (274, 'Tasmin', 15),\n",
       " (275, 'Mike', 15),\n",
       " (276, 'Bill', 18),\n",
       " (277, 'Maria', 9),\n",
       " (278, 'Owen', 15),\n",
       " (279, 'Lizzie', 14),\n",
       " (280, 'Dave', 17),\n",
       " (281, 'Abi', 10),\n",
       " (282, 'Hannah', 13),\n",
       " (283, 'Erika', 15),\n",
       " (284, 'Katie', 9),\n",
       " (285, 'Darius', 13),\n",
       " (286, 'Blake', 15),\n",
       " (287, 'Ruth', 13),\n",
       " (288, 'Carl', 15),\n",
       " (289, 'Aurora', 13),\n",
       " (290, 'Ali', 12),\n",
       " (291, 'Elba', 14),\n",
       " (292, 'Emma', 13),\n",
       " (293, 'Chris', 17),\n",
       " (294, 'Alison', 14),\n",
       " (295, 'Calvin', 9),\n",
       " (296, 'Tasmin', 15),\n",
       " (297, 'Mike', 15),\n",
       " (298, 'Bill', 18),\n",
       " (299, 'Maria', 9),\n",
       " (300, 'Owen', 15),\n",
       " (301, 'Lizzie', 14),\n",
       " (302, 'Dave', 17),\n",
       " (303, 'Abi', 10),\n",
       " (304, 'Hannah', 13),\n",
       " (305, 'Erika', 15),\n",
       " (306, 'Katie', 9),\n",
       " (307, 'Darius', 13),\n",
       " (308, 'Blake', 15),\n",
       " (309, 'Ruth', 13),\n",
       " (310, 'Carl', 15),\n",
       " (311, 'Aurora', 13),\n",
       " (312, 'Ali', 12),\n",
       " (313, 'Elba', 14),\n",
       " (314, 'Emma', 13),\n",
       " (315, 'Chris', 17),\n",
       " (316, 'Alison', 14),\n",
       " (317, 'Calvin', 9),\n",
       " (318, 'Tasmin', 15),\n",
       " (319, 'Mike', 15),\n",
       " (320, 'Bill', 18),\n",
       " (321, 'Maria', 9),\n",
       " (322, 'Owen', 15),\n",
       " (323, 'Lizzie', 14),\n",
       " (324, 'Dave', 17),\n",
       " (325, 'Abi', 10),\n",
       " (326, 'Hannah', 13),\n",
       " (327, 'Erika', 15),\n",
       " (328, 'Katie', 9),\n",
       " (329, 'Darius', 13),\n",
       " (330, 'Blake', 15)]"
      ]
     },
     "execution_count": 261,
     "metadata": {},
     "output_type": "execute_result"
    }
   ],
   "source": [
    "SQL = \"\"\"SELECT * FROM swimmers\"\"\"\n",
    "\n",
    "with DBcm.UseDatabase(config) as db:\n",
    "    db.execute(SQL)\n",
    "    data = db.fetchall()\n",
    "\n",
    "data"
   ]
  },
  {
   "cell_type": "code",
   "execution_count": 262,
   "metadata": {},
   "outputs": [],
   "source": [
    "swimmerid = \"\"\"SELECT id FROM swimmers\"\"\"\n",
    "eventid = \"\"\"SELECT id FROM events\"\"\"\n",
    "\n",
    "with DBcm.UseDatabase(config) as db:\n",
    "    db.execute(swimmerid)\n",
    "    data = db.fetchall()\n",
    "\n",
    "\n",
    "\n",
    "    db.execute(eventid)\n",
    "    data2 = db.fetchall()\n"
   ]
  },
  {
   "cell_type": "code",
   "execution_count": 263,
   "metadata": {},
   "outputs": [
    {
     "data": {
      "text/plain": [
       "[(105,),\n",
       " (106,),\n",
       " (107,),\n",
       " (108,),\n",
       " (109,),\n",
       " (110,),\n",
       " (111,),\n",
       " (112,),\n",
       " (113,),\n",
       " (114,),\n",
       " (115,),\n",
       " (116,),\n",
       " (117,),\n",
       " (118,),\n",
       " (119,),\n",
       " (120,),\n",
       " (121,),\n",
       " (122,),\n",
       " (123,),\n",
       " (124,),\n",
       " (125,),\n",
       " (126,),\n",
       " (127,),\n",
       " (128,),\n",
       " (129,),\n",
       " (130,),\n",
       " (131,),\n",
       " (132,),\n",
       " (133,),\n",
       " (134,),\n",
       " (135,),\n",
       " (136,),\n",
       " (137,),\n",
       " (138,),\n",
       " (139,),\n",
       " (140,),\n",
       " (141,),\n",
       " (142,),\n",
       " (143,),\n",
       " (144,),\n",
       " (145,),\n",
       " (146,),\n",
       " (147,),\n",
       " (148,),\n",
       " (149,),\n",
       " (150,),\n",
       " (151,),\n",
       " (152,),\n",
       " (153,),\n",
       " (154,),\n",
       " (155,),\n",
       " (156,),\n",
       " (157,),\n",
       " (158,),\n",
       " (159,),\n",
       " (160,),\n",
       " (161,),\n",
       " (162,),\n",
       " (163,),\n",
       " (164,),\n",
       " (165,),\n",
       " (166,),\n",
       " (167,),\n",
       " (168,),\n",
       " (169,),\n",
       " (170,),\n",
       " (171,),\n",
       " (172,),\n",
       " (173,),\n",
       " (174,),\n",
       " (175,),\n",
       " (176,),\n",
       " (177,),\n",
       " (178,),\n",
       " (179,),\n",
       " (180,),\n",
       " (181,),\n",
       " (182,),\n",
       " (183,),\n",
       " (184,),\n",
       " (185,),\n",
       " (186,),\n",
       " (187,),\n",
       " (188,),\n",
       " (189,),\n",
       " (190,),\n",
       " (191,),\n",
       " (192,),\n",
       " (193,),\n",
       " (194,),\n",
       " (195,)]"
      ]
     },
     "execution_count": 263,
     "metadata": {},
     "output_type": "execute_result"
    }
   ],
   "source": [
    "data2"
   ]
  },
  {
   "cell_type": "code",
   "execution_count": 264,
   "metadata": {},
   "outputs": [],
   "source": [
    "import os"
   ]
  },
  {
   "cell_type": "code",
   "execution_count": 265,
   "metadata": {},
   "outputs": [
    {
     "name": "stdout",
     "output_type": "stream",
     "text": [
      "\u0000\u0000\u0000\u0001Bud1\u0000\u0000(\u0000\u0000\u0000\u0000\u0000(\u0000\u0000\u0000\u0010\f\u0000\u0000\u0000‡\u0000\u0000 \u000b\u0000\u0000\u0000\u0000\u0000\u0000\u0000\u0000\u0000\u0000\u0000\u0000\u0000\u0000\u0000\u0000\u0000\u0000\u0000\u0000\u0000\u0000\u0000\u0000\u0000\u0000\u0000\u0000\u0000\u0000\u0000\u0000\u0000\u0000\u0000\u0003\u0000\u0000\u0000\u0001\u0000\u0000\u0000<\u0000\u0000\u0000\u0003\u0000\u0000\u0010\u0000\u0000b\u0000a\u0000-\u00001\u00004\u0000-\u0000\u0000\u0000\u0000\u0000\u0000\u0000\u0000\u0000\u0000\u0000\u0000\u0000\u0000\u0000\u0000\u0000\u0000\u0000\u0000\u0000\u0000\u0000\u0000\u0000\u0000\u0000\u0000\u0000\u0000\u0000\u0000\u0000\u0000\u0000\u0002\u0000\u0000\u0000\u0001\u0000\u0000\u0000\u0004\u0000\u0000\u0000\u0015\u0000E\u0000l\u0000b\u0000a\u0000-\u00001\u00004\u0000-\u00001\u00000\u00000\u0000m\u0000-\u0000F\u0000r\u0000e\u0000e\u0000.\u0000t\u0000x\u0000tIlocblob\u0000\u0000\u0000\u0010\u0000\u0000\u0003=\u0000\u0000ÿÿÿÿÿÿ\u0000\u0000\u0000b\u0000i\u0000-\u00001\u00000\u0000-\u00001\u00000\u00000\u0000m\u0000-\u0000B\u0000r\u0000e\u0000a\u0000s\u0000t\u0000.\u0000t\u0000x\u0000t\u0000\u0000\u0000\u0000\u0000\u0000\u0000\u0000\u0000\u0000\u0000\u0000\u0000\u0000\u0000\u0000\u0000\u0000\u0000\u0000\u0000\u0000\u0000\u0000\u0000\u0000\u0000\u0000\u0000\u0000\u0000\u0000\u0000\u0000\u0000\u0000\u0000\u0000\u0000\u0000\u0000\u0000\u0000\u0000\u0000\u0000\u0000\u0000\u0000\u0000\u0000\u0000\u0000\u0000\u0000\u0000\u0000\u0000\u0000\u0000\u0000\u0000\u0000\u0000\u0000\u0000\u0000\u0000\u0000\u0000\u0000\u0000\u0000\u0000\u0000\u0000\u0000\u0000\u0000\u0000\u0000\u0000\u0000\u0000\u0000\u0000\u0000\u0000\u0000\u0000\u0000\u0000\u0000\u0000\u0000\u0000\u0000\u0000\u0000\u0000\u0000\u0000\u0000\u0000\u0000\u0000\u0000\u0000\u0000\u0000\u0000\u0000\u0000\u0000\u0000\u0000\u0000\u0000\u0000\u0000\u0000\u0000\u0000\u0000\u0000\u0000\u0000\u0000\u0000\u0000\u0000\u0000\u0000\u0000\u0000\u0000\u0000\u0000\u0000\u0000\u0000\u0000\u0000\u0000\u0000\u0000\u0000\u0000\u0000\u0000\u0000\u0000\u0000\u0000\u0000\u0000\u0000\u0000\u0000\u0000\u0000\u0000\u0000\u0000\u0000\u0000\u0000\u0000\u0000\u0000\u0000\u0000\u0000\u0000\u0000\u0000\u0000\u0000\u0000\u0000\u0000\u0000\u0000\u0000\u0000\u0000\u0000\u0000\u0000\u0000\u0000\u0000\u0000\u0000\u0000\u0000\u0000\u0000\u0000\u0000\u0000\u0000\u0000\u0000\u0000\u0000\u0000\u0000\u0000\u0000\u0000\u0000\u0000\u0000\u0000\u0000\u0000\u0000\u0000\u0000\u0000\u0000\u0000\u0000\u0000\u0000\u0000\u0000\u0000\u0000\u0000\u0000\u0000\u0000\u0000\u0000\u0000\u0000\u0000\u0000\u0000\u0000\u0000\u0000\u0000\u0000\u0000\u0000\u0000\u0000\u0000\u0000\u0000\u0000\u0000\u0000\u0000\u0000\u0000\u0000\u0000\u0000\u0000\u0000\u0000\u0000\u0000\u0000\u0000\u0000\u0000\u0000\u0000\u0000\u0000\u0000\u0000\u0000\u0000\u0000\u0000\u0000\u0000\u0000\u0000\u0000\u0000\u0000\u0000\u0000\u0000\u0000\u0000\u0000\u0000\u0000\u0000\u0000\u0000\u0000\u0000\u0000\u0000\u0000\u0000\u0000\u0000\u0000\u0000\u0000\u0000\u0000\u0000\u0000\u0000\u0000\u0000\u0000\u0000\u0000\u0000\u0000\u0000\u0000\u0000\u0000\u0000\u0000\u0000\u0000\u0000\u0000\u0000\u0000\u0000\u0000\u0000\u0000\u0000\u0000\u0000\u0000\u0000\u0000\u0000\u0000\u0000\u0000\u0000\u0000\u0000\u0000\u0000\u0000\u0000\u0000\u0000\u0000\u0000\u0000\u0000\u0000\u0000\u0000\u0000\u0000\u0000\u0000\u0000\u0000\u0000\u0000\u0000\u0000\u0000\u0000\u0000\u0000\u0000\u0000\u0000\u0000\u0000\u0000\u0000\u0000\u0000\u0000\u0000\u0000\u0000\u0000\u0000\u0000\u0000\u0000\u0000\u0000\u0000\u0000\u0000\u0000\u0000\u0000\u0000\u0000\u0000\u0000\u0000\u0000\u0000\u0000\u0000\u0000\u0000\u0000\u0000\u0000\u0000\u0000\u0000\u0000\u0000\u0000\u0000\u0000\u0000\u0000\u0000\u0000\u0000\u0000\u0000\u0000\u0000\u0000\u0000\u0000\u0000\u0000\u0000\u0000\u0000\u0000\u0000\u0000\u0000\u0000\u0000\u0000\u0000\u0000\u0000\u0000\u0000\u0000\u0000\u0000\u0000\u0000\u0000\u0000\u0000\u0000\u0000\u0000\u0000\u0000\u0000\u0000\u0000\u0000\u0000\u0000\u0000\u0000\u0000\u0000\u0000\u0000\u0000\u0000\u0000\u0000\u0000\u0000\u0000\u0000\u0000\u0000\u0000\u0000\u0000\u0000\u0000\u0000\u0000\u0000\u0000\u0000\u0000\u0000\u0000\u0000\u0000\u0000\u0000\u0000\u0000\u0000\u0000\u0000\u0000\u0000\u0000\u0000\u0000\u0000\u0000\u0000\u0000\u0000\u0000\u0000\u0000\u0000\u0000\u0000\u0000\u0000\u0000\u0000\u0000\u0000\u0000\u0000\u0000\u0000\u0000\u0000\u0000\u0000\u0000\u0000\u0000\u0000\u0000\u0000\u0000\u0000\u0000\u0000\u0000\u0000\u0000\u0000\u0000\u0000\u0000\u0000\u0000\u0000\u0000\u0000\u0000\u0000\u0000\u0000\u0000\u0000\u0000\u0000\u0000\u0000\u0000\u0000\u0000\u0000\u0000\u0000\u0000\u0000\u0000\u0000\u0000\u0000\u0000\u0000\u0000\u0000\u0000\u0000\u0000\u0000\u0000\u0000\u0000\u0000\u0000\u0000\u0000\u0000\u0000\u0000\u0000\u0000\u0000\u0000\u0000\u0000\u0000\u0000\u0000\u0000\u0000\u0000\u0000\u0000\u0000\u0000\u0000\u0000\u0000\u0000\u0000\u0000\u0000\u0000\u0000\u0000\u0000\u0000\u0000\u0000\u0000\u0000\u0000\u0000\u0000\u0000\u0000\u0000\u0000\u0000\u0000\u0000\u0000\u0000\u0000\u0000\u0000\u0000\u0000\u0000\u0000\u0000\u0000\u0000\u0000\u0000\u0000\u0000\u0000\u0000\u0000\u0000\u0000\u0000\u0000\u0000\u0000\u0000\u0000\u0000\u0000\u0000\u0000\u0000\u0000\u0000\u0000\u0000\u0000\u0000\u0000\u0000\u0000\u0000\u0000\u0000\u0000\u0000\u0000\u0000\u0000\u0000\u0000\u0000\u0000\u0000\u0000\u0000\u0000\u0000\u0000\u0000\u0000\u0000\u0000\u0000\u0000\u0000\u0000\u0000\u0000\u0000\u0000\u0000\u0000\u0000\u0000\u0000\u0000\u0000\u0000\u0000\u0000\u0000\u0000\u0000\u0000\u0000\u0000\u0000\u0000\u0000\u0000\u0000\u0000\u0000\u0000\u0000\u0000\u0000\u0000\u0000\u0000\u0000\u0000\u0000\u0000\u0000\u0000\u0000\u0000\u0000\u0000\u0000\u0000\u0000\u0000\u0000\u0000\u0000\u0000\u0000\u0000\u0000\u0000\u0000\u0000\u0000\u0000\u0000\u0000\u0000\u0000\u0000\u0000\u0000\u0000\u0000\u0000\u0000\u0000\u0000\u0000\u0000\u0000\u0000\u0000\u0000\u0000\u0000\u0000\u0000\u0000\u0000\u0000\u0000\u0000\u0000\u0000\u0000\u0000\u0000\u0000\u0000\u0000\u0000\u0000\u0000\u0000\u0000\u0000\u0000\u0000\u0000\u0000\u0000\u0000\u0000\u0000\u0000\u0000\u0000\u0000\u0000\u0000\u0000\u0000\u0000\u0000\u0000\u0000\u0000\u0000\u0000\u0000\u0000\u0000\u0000\u0000\u0000\u0000\u0000\u0000\u0000\u0000\u0000\u0000\u0000\u0000\u0000\u0000\u0000\u0000\u0000\u0000\u0000\u0000\u0000\u0000\u0000\u0000\u0000\u0000\u0000\u0000\u0000\u0000\u0000\u0000\u0000\u0000\u0000\u0000\u0000\u0000\u0000\u0000\u0000\u0000\u0000\u0000\u0000\u0000\u0000\u0000\u0000\u0000\u0000\u0000\u0000\u0000\u0000\u0000\u0000\u0000\u0000\u0000\u0000\u0000\u0000\u0000\u0000\u0000\u0000\u0000\u0000\u0000\u0000\u0000\u0000\u0000\u0000\u0000\u0000\u0000\u0000\u0000\u0000\u0000\u0000\u0000\u0000\u0000\u0000\u0000\u0000\u0000\u0000\u0000\u0000\u0000\u0000\u0000\u0000\u0000\u0000\u0000\u0000\u0000\u0000\u0000\u0000\u0000\u0000\u0000\u0000\u0000\u0000\u0000\u0000\u0000\u0000\u0000\u0000\u0000\u0000\u0000\u0000\u0000\u0000\u0000\u0000\u0000\u0000\u0000\u0000\u0000\u0000\u0000\u0000\u0000\u0000\u0000\u0000\u0000\u0000\u0000\u0000\u0000\u0000\u0000\u0000\u0000\u0000\u0000\u0000\u0000\u0000\u0000\u0000\u0000\u0000\u0000\u0000\u0000\u0000\u0000\u0000\u0000\u0000\u0000\u0000\u0000\u0000\u0000\u0000\u0000\u0000\u0000\u0000\u0000\u0000\u0000\u0000\u0000\u0000\u0000\u0000\u0000\u0000\u0000\u0000\u0000\u0000\u0000\u0000\u0000\u0000\u0000\u0000\u0000\u0000\u0000\u0000\u0000\u0000\u0000\u0000\u0000\u0000\u0000\u0000\u0000\u0000\u0000\u0000\u0000\u0000\u0000\u0000\u0000\u0000\u0000\u0000\u0000\u0000\u0000\u0000\u0000\u0000\u0000\u0000\u0000\u0000\u0000\u0000\u0000\u0000\u0000\u0000\u0000\u0000\u0000\u0000\u0000\u0000\u0000\u0000\u0000\u0000\u0000\u0000\u0000\u0000\u0000\u0000\u0000\u0000\u0000\u0000\u0000\u0000\u0000\u0000\u0000\u0000\u0000\u0000\u0000\u0000\u0000\u0000\u0000\u0000\u0000\u0000\u0000\u0000\u0000\u0000\u0000\u0000\u0000\u0000\u0000\u0000\u0000\u0000\u0000\u0000\u0000\u0000\u0000\u0000\u0000\u0000\u0000\u0000\u0000\u0000\u0000\u0000\u0000\u0000\u0000\u0000\u0000\u0000\u0000\u0000\u0000\u0000\u0000\u0000\u0000\u0000\u0000\u0000\u0000\u0000\u0000\u0000\u0000\u0000\u0000\u0000\u0000\u0000\u0000\u0000\u0000\u0000\u0000\u0000\u0000\u0000\u0000\u0000\u0000\u0000\u0000\u0000\u0000\u0000\u0000\u0000\u0000\u0000\u0000\u0000\u0000\u0000\u0000\u0000\u0000\u0000\u0000\u0000\u0000\u0000\u0000\u0000\u0000\u0000\u0000\u0000\u0000\u0000\u0000\u0000\u0000\u0000\u0000\u0000\u0000\u0000\u0000\u0000\u0000\u0000\u0000\u0000\u0000\u0000\u0000\u0000\u0000\u0000\u0000\u0000\u0000\u0000\u0000\u0000\u0000\u0000\u0000\u0000\u0000\u0000\u0000\u0000\u0000\u0000\u0000\u0000\u0000\u0000\u0000\u0000\u0000\u0000\u0000\u0000\u0000\u0000\u0000\u0000\u0000\u0000\u0000\u0000\u0000\u0000\u0000\u0000\u0000\u0000\u0000\u0000\u0000\u0000\u0000\u0000\u0000\u0000\u0000\u0000\u0000\u0000\u0000\u0000\u0000\u0000\u0000\u0000\u0000\u0000\u0000\u0000\u0000\u0000\u0000\u0000\u0000\u0000\u0000\u0000\u0000\u0000\u0000\u0000\u0000\u0000\u0000\u0000\u0000\u0000\u0000\u0000\u0000\u0000\u0000\u0000\u0000\u0000\u0000\u0000\u0000\u0000\u0000\u0000\u0000\u0000\u0000\u0000\u0000\u0000\u0000\u0000\u0000\u0000\u0000\u0000\u0000\u0000\u0000\u0000\u0000\u0000\u0000\u0000\u0000\u0000\u0000\u0000\u0000\u0000\u0000\u0000\u0000\u0000\u0000\u0000\u0000\u0000\u0000\u0000\u0000\u0000\u0000\u0000\u0000\u0000\u0000\u0000\u0000\u0000\u0000\u0000\u0000\u0000\u0000\u0000\u0000\u0000\u0000\u0000\u0000\u0000\u0000\u0000\u0000\u0000\u0000\u0000\u0000\u0000\u0000\u0000\u0000\u0000\u0000\u0000\u0000\u0000\u0000\u0000\u0000\u0000\u0000\u0000\u0000\u0000\u0000\u0000\u0000\u0000\u0000\u0000\u0000\u0000\u0000\u0000\u0000\u0000\u0000\u0000\u0000\u0000\u0000\u0000\u0000\u0000\u0000\u0000\u0000\u0000\u0000\u0000\u0000\u0000\u0000\u0000\u0000\u0000\u0000\u0000\u0000\u0000\u0000\u0000\u0000\u0000\u0000\u0000\u0000\u0000\u0000\u0000\u0000\u0000\u0000\u0000\u0000\u0000\u0000\u0000\u0000\u0000\u0000\u0000\u0000\u0000\u0000\u0000\u0000\u0000\u0000\u0000\u0000\u0000\u0000\u0000\u0000\u0000\u0000\u0000\u0000\u0000\u0000\u0000\u0000\u0000\u0000\u0000\u0000\u0000\u0000\u0000\u0000\u0000\u0000\u0000\u0000\u0000\u0000\u0000\u0000\u0000\u0000\u0000\u0000\u0000\u0000\u0000\u0000\u0000\u0000\u0000\u0000\u0000\u0000\u0000\u0000\u0000\u0000\u0000\u0000\u0000\u0000\u0000\u0000\u0000\u0000\u0000\u0000\u0000\u0000\u0000\u0000\u0000\u0000\u0000\u0000\u0000\u0000\u0000\u0000\u0000\u0000\u0000\u0000\u0000\u0000\u0000\u0000\u0000\u0000\u0000\u0000\u0000\u0000\u0000\u0000\u0000\u0000\u0000\u0000\u0000\u0000\u0000\u0000\u0000\u0000\u0000\u0000\u0000\u0000\u0000\u0000\u0000\u0000\u0000\u0000\u0000\u0000\u0000\u0000\u0000\u0000\u0000\u0000\u0000\u0000\u0000\u0000\u0000\u0000\u0000\u0000\u0000\u0000\u0000\u0000\u0000\u0000\u0000\u0000\u0000\u0000\u0000\u0000\u0000\u0000\u0000\u0000\u0000\u0000\u0000\u0000\u0000\u0000\u0000\u0000\u0000\u0000\u0000\u0000\u0000\u0000\u0000\u0000\u0000\u0000\u0000\u0000\u0000\u0000\u0000\u0000\u0000\u0000\u0000\u0000\u0000\u0000\u0000\u0000\u0000\u0000\u0000\u0000\u0000\u0000\u0000\u0000\u0000\u0000\u0000\u0000\u0000\u0000\u0000\u0000\u0000\u0000\u0000\u0000\u0000\u0000\u0000\u0000\u0000\u0000\u0000\u0000\u0000\u0000\u0000\u0000\u0000\u0000\u0000\u0000\u0000\u0000\u0000\u0000\u0000\u0000\u0000\u0000\u0000\u0000\u0000\u0000\u0000\u0000\u0000\u0000\u0000\u0000\u0000\u0000\u0000\u0000\u0000\u0000\u0000\u0000\u0000\u0000\u0000\u0000\u0000\u0000\u0000\u0000\u0000\u0000\u0000\u0000\u0000\u0000\u0000\u0000\u0000\u0000\u0000\u0000\u0000\u0000\u0000\u0000\u0000\u0000\u0000\u0000\u0000\u0000\u0000\u0000\u0000\u0000\u0000\u0000\u0000\u0000\u0000\u0000\u0000\u0000\u0000\u0000\u0000\u0000\u0000\u0000\u0000\u0000\u0000\u0000\u0000\u0000\u0000\u0000\u0000\u0000\u0000\u0000\u0000\u0000\u0000\u0000\u0000\u0000\u0000\u0000\u0000\u0000\u0000\u0000\u0000\u0000\u0000\u0000\u0000\u0000\u0000\u0000\u0000\u0000\u0000\u0000\u0000\u0000\u0000\u0000\u0000\u0000\u0000\u0000\u0000\u0000\u0000\u0000\u0000\u0000\u0000\u0000\u0001\u0000\u0000\u0000\u0000\u0000\u000b\u0000\u0000\u0000\u0000\u0000\u0000\u0000\u0000\u0000\u0000\u0000\u0000\u0000\u0000\u0000\u0000\u0000\u0000\u0000\u0000\u0000\u0000\u0000\u0000\u0000\u0000\u0000\u0000\u0000\u0000\u0000\u0000\u0000\u0000\u0000\u0000\u0000\u0000\u0000\u0000\u0000\u0000\u0000\u0000\u0000\u0000\u0000\u0000\u0000\u0000\u0000\u0000\u0000\u0000\u0000\u0000\u0000\u0000\u0000\u0000\u0000\u0000\u0000\u0000\u0000\u0000\u0000\u0000\u0000\u0000\u0000\u0000\u0000\u0000\u0000\u0000\u0000\u0000\u0000\u0000\u0000\u0000\u0000\u0000\u0000\u0000\u0000\u0000\u0000\u0000\u0000\u0000\u0000\u0000\u0000\u0000\u0000\u0000\u0000\u0000\u0000\u0000\u0000\u0000\u0000\u0000\u0000\u0000\u0000\u0000\u0000\u0000\u0000\u0000\u0000\u0000\u0000\u0000\u0000\u0000\u0000\u0000\u0000\u0000\u0000\u0000\u0000\u0000\u0000\u0000\u0000\u0000\u0000\u0000\u0000\u0000\u0000\u0000\u0000\u0000\u0000\u0000\u0000\u0000\u0000\u0000\u0000\u0000\u0000\u0000\u0000\u0000\u0000\u0000\u0000\u0000\u0000\u0000\u0000\u0000\u0000\u0000\u0000\u0000\u0000\u0000\u0000\u0000\u0000\u0000\u0000\u0000\u0000\u0000\u0000\u0000\u0000\u0000\u0000\u0000\u0000\u0000\u0000\u0000\u0000\u0000\u0000\u0000\u0000\u0000\u0000\u0000\u0000\u0000\u0000\u0000\u0000\u0000\u0000\u0000\u0000\u0000\u0000\u0000\u0000\u0000\u0000\u0000\u0000\u0000\u0000\u0000\u0000\u0000\u0000\u0000\u0000\u0000\u0000\u0000\u0000\u0000\u0000\u0000\u0000\u0000\u0000\u0000\u0000\u0000\u0000\u0000\u0000\u0000\u0000\u0000\u0000\u0000\u0000\u0000\u0000\u0000\u0000\u0000\u0000\u0000\u0000\u0000\u0000\u0000\u0000\u0000\u0000\u0000\u0000\u0000\u0000\u0000\u0000\u0000\u0000\u0000\u0000\u0000\u0000\u0000\u0000\u0000\u0000\u0000\u0000\u0000\u0000\u0000\u0000\u0000\u0000\u0000\u0000\u0000\u0000\u0000\u0000\u0000\u0000\u0000\u0000\u0000\u0000\u0000\u0000\u0000\u0000\u0000\u0000\u0000\u0000\u0000\u0000\u0000\u0000\u0000\u0000\u0000\u0000\u0000\u0000\u0000\u0000\u0000\u0000\u0000\u0000\u0000\u0000\u0000\u0000\u0000\u0000\u0000\u0000\u0000\u0000\u0000\u0000\u0000\u0000\u0000\u0000\u0000\u0000\u0000\u0000\u0000\u0000\u0000\u0000\u0000\u0000\u0000\u0000\u0000\u0000\u0000\u0000\u0000\u0000\u0000\u0000\u0000\u0000\u0000\u0000\u0000\u0000\u0000\u0000\u0000\u0000\u0000\u0000\u0000\u0000\u0000\u0000\u0000\u0000\u0000\u0000\u0000\u0000\u0000\u0000\u0000\u0000\u0000\u0000\u0000\u0000\u0000\u0000\u0000\u0000\u0000\u0000\u0000\u0000\u0000\u0000\u0000\u0000\u0000\u0000\u0000\u0000\u0000\u0000\u0000\u0000\u0000\u0000\u0000\u0000\u0000\u0000\u0000\u0000\u0000\u0000\u0000\u0000\u0000\u0000\u0000\u0000\u0000\u0000\u0000\u0000\u0000\u0000\u0000\u0000\u0000\u0000\u0000\u0000\u0000\u0000\u0000\u0000\u0000\u0000\u0000\u0000\u0000\u0000\u0000\u0000\u0000\u0000\u0000\u0000\u0000\u0000\u0000\u0000\u0000\u0000\u0000\u0000\u0000\u0000\u0000\u0000\u0000\u0000\u0000\u0000\u0000\u0000\u0000\u0000\u0000\u0000\u0000\u0000\u0000\u0000\u0000\u0000\u0000\u0000\u0000\u0000\u0000\u0000\u0000\u0000\u0000\u0000\u0000\u0000\u0000\u0000\u0000\u0000\u0000\u0000\u0000\u0000\u0000\u0000\u0000\u0000\u0000\u0000\u0000\u0000\u0000\u0000\u0000\u0000\u0000\u0000\u0000\u0000\u0000\u0000\u0000\u0000\u0000\u0000\u0000\u0000\u0000\u0000\u0000\u0000\u0000\u0000\u0000\u0000\u0000\u0000\u0000\u0000\u0000\u0000\u0000\u0000\u0000\u0000\u0000\u0000\u0000\u0000\u0000\u0000\u0000\u0000\u0000\u0000\u0000\u0000\u0000\u0000\u0000\u0000\u0000\u0000\u0000\u0000\u0000\u0000\u0000\u0000\u0000\u0000\u0000\u0000\u0000\u0000\u0000\u0000\u0000\u0000\u0000\u0000\u0000\u0000\u0000\u0000\u0000\u0000\u0000\u0000\u0000\u0000\u0000\u0000\u0000\u0000\u0000\u0000\u0000\u0000\u0000\u0000\u0000\u0000\u0000\u0000\u0000\u0000\u0000\u0000\u0000\u0000\u0000\u0000\u0000\u0000\u0000\u0000\u0000\u0000\u0000\u0000\u0000\u0000\u0000\u0000\u0000\u0000\u0000\u0000\u0000\u0000\u0000\u0000\u0000\u0000\u0000\u0000\u0000\u0000\u0000\u0000\u0000\u0000\u0000\u0000\u0000\u0000\u0000\u0000\u0000\u0000\u0000\u0000\u0000\u0000\u0000\u0000\u0000\u0000\u0000\u0000\u0000\u0000\u0000\u0000\u0000\u0000\u0000\u0000\u0000\u0000\u0000\u0000\u0000\u0000\u0000\u0000\u0000\u0000\u0000\u0000\u0000\u0000\u0000\u0000\u0000\u0000\u0000\u0000\u0000\u0000\u0000\u0000\u0000\u0000\u0000\u0000\u0000\u0000\u0000\u0000\u0000\u0000\u0000\u0000\u0000\u0000\u0000\u0000\u0000\u0000\u0000\u0000\u0000\u0000\u0000\u0000\u0000\u0000\u0000\u0000\u0000\u0000\u0000\u0000\u0000\u0000\u0000\u0000\u0000\u0000\u0000\u0000\u0000\u0000\u0000\u0000\u0000\u0000\u0000\u0000\u0000\u0000\u0000\u0000\u0000\u0000\u0000\u0000\u0000\u0000\u0000\u0000\u0000\u0000\u0000\u0000\u0000\u0000\u0000\u0000\u0000\u0000\u0000\u0000\u0000\u0000\u0000\u0000\u0000\u0000\u0000\u0000\u0000\u0000\u0000\u0000\u0000\u0000\u0000\u0000\u0000\u0000\u0000\u0000\u0000\u0000\u0000\u0000\u0000\u0000\u0000\u0000\u0000\u0000\u0000\u0000\u0000\u0000\u0000\u0000\u0000\u0000\u0000\u0000\u0000\u0000\u0000\u0000\u0000\u0000\u0000\u0000\u0000\u0000\u0000\u0000\u0000\u0000\u0000\u0000\u0000\u0000\u0000\u0000\u0000\u0000\u0000\u0000\u0000\u0000\u0000\u0000\u0000\u0000\u0000\u0000\u0000\u0000\u0000\u0000\u0000\u0000\u0000\u0000\u0000\u0000\u0000\u0000\u0000\u0000\u0000\u0000\u0000\u0000\u0000\u0000\u0000\u0000\u0000\u0000\u0000\u0000\u0000\u0000\u0000\u0000\u0000\u0000\u0000\u0000\u0000\u0000\u0000\u0000\u0000\u0000\u0000\u0000\u0000\u0000\u0000\u0000\u0000\u0000\u0000\u0000\u0000\u0000\u0000\u0000\u0000\u0000\u0000\u0000\u0000\u0000\u0000\u0000\u0000\u0000\u0000\u0000\u0000\u0000\u0000\u0000\u0000\u0000\u0000\u0000\u0000\u0000\u0000\u0000\u0000\u0000\u0000\u0000\u0000\u0000\u0000\u0000\u0000\u0000\u0000\u0000\u0000\u0000\u0000\u0000\u0000\u0000\u0000\u0000\u0000\u0000\u0000\u0000\u0000\u0000\u0000\u0000\u0000\u0000\u0000\u0000\u0000\u0000\u0000\u0000\u0000\u0000\u0000\u0000\u0000\u0000\u0000\u0000\u0000\u0000\u0000\u0000\u0000\u0000\u0000\u0000\u0000\u0000\u0000\u0000\u0000\u0000\u0000\u0000\u0000\u0000\u0000\u0000\u0000\u0000\u0000\u0000\u0000\u0000\u0000\u0000\u0000\u0000\u0000\u0000\u0000\u0000\u0000\u0000\u0000\u0000\u0000\u0000\u0000\u0000\u0000\u0000\u0000\u0000\u0000\u0000\u0000\u0000\u0000\u0000\u0000\u0000\u0000\u0000\u0000\u0000\u0000\u0000\u0000\u0000\u0000\u0000\u0000\u0000\u0000\u0000\u0000\u0000\u0000\u0000\u0000\u0000\u0000\u0000\u0000\u0000\u0000\u0000\u0000\u0000\u0000\u0000\u0000\u0000\u0000\u0000\u0000\u0000\u0000\u0000\u0000\u0000\u0000\u0000\u0000\u0000\u0000\u0000\u0001\u0000\u0000\u0000 \u0000\u0000\u0000\u0001\u0000\u0000\u0000@\u0000\u0000\u0000\u0001\u0000\u0000\u0000€\u0000\u0000\u0000\u0001\u0000\u0000\u0001\u0000\u0000\u0000\u0000\u0001\u0000\u0000\u0002\u0000\u0000\u0000\u0000\u0001\u0000\u0000\u0004\u0000\u0000\u0000\u0000\u0000\u0000\u0000\u0000\u0001\u0000\u0000\u0010\u0000\u0000\u0000\u0000\u0001\u0000\u0000 \u0000\u0000\u0000\u0000\u0001\u0000\u0000@\u0000\u0000\u0000\u0000\u0001\u0000\u0000€\u0000\u0000\u0000\u0000\u0001\u0000\u0001\u0000\u0000\u0000\u0000\u0000\u0001\u0000\u0002\u0000\u0000\u0000\u0000\u0000\u0001\u0000\u0004\u0000\u0000\u0000\u0000\u0000\u0001\u0000\u0000\u0000\u0000\u0000\u0001\u0000\u0010\u0000\u0000\u0000\u0000\u0000\u0001\u0000 \u0000\u0000\u0000\u0000\u0000\u0001\u0000@\u0000\u0000\u0000\u0000\u0000\u0001\u0000€\u0000\u0000\u0000\u0000\u0000\u0001\u0001\u0000\u0000\u0000\u0000\u0000\u0000\u0001\u0002\u0000\u0000\u0000\u0000\u0000\u0000\u0001\u0004\u0000\u0000\u0000\u0000\u0000\u0000\u0000\u0000\u0000\u0000\u0000\u0000\u0001\u0010\u0000\u0000\u0000\u0000\u0000\u0000\u0001 \u0000\u0000\u0000\u0000\u0000\u0000\u0001@\u0000\u0000\u0000\u0000\u0000\u0000\u0000\u0000\u0000\u0000\u0000\u0000\u0000\u0000\u0000\u0000\u0000\u0000\u0000\u0000\u0000\u0000\u0000\u0000\u0000\u0000\u0000\u0000\u0000\u0000\u0000\u0000\u0000\u0000\u0000\u0000\u0000\u0000\u0000\u0000\u0000\u0000\u0000\u0000\u0000\u0000\u0000\u0000\u0000\u0000\u0000\u0000\u0000\u0000\u0000\u0000\u0000\u0000\u0000\u0000\u0000\u0000\u0000\u0000\u0000\u0000\u0000\u0000\u0000\u0000\u0000\u0000\u0000\u0000\u0000\u0000\u0000\u0000\u0000\u0000\u0000\u0000\u0000\u0000\u0000\u0000\u0000\u0000\u0000\u0000\u0000\u0000\u0000\u0000\u0000\u0000\u0000\u0000\u0000\u0000\u0000\u0000\u0000\u0000\u0000\u0000\u0000\u0000\u0000\u0000\u0000\u0000\u0000\u0000\u0000\u0000\u0000\u0000\u0000\u0000\u0000\u0000\u0000\u0000\u0000\u0000\u0000\u0000\u0000\u0000\u0000\u0000\u0000\u0000\u0000\u0000\u0000\u0000\u0000\u0000\u0000\u0000\u0000\u0000\u0000\u0000\u0000\u0000\u0000\u0000\u0000\u0000\u0000\u0000\u0000\u0000\u0000\u0000\u0000\u0000\u0000\u0000\u0000\u0000\u0000\u0000\u0000\u0000\u0000\u0000\u0000\u0000\u0000\u0000\u0000\u0000\u0000\u0000\u0000\u0000\u0000\u0000\u0000\u0000\u0000\u0000\u0000\u0000\u0000\u0000\u0000\u0000\u0000\u0000\u0000\u0000\u0000\u0000\u0000\u0000\u0000\u0000\u0000\u0000\u0000\u0000\u0000\u0000\u0000\u0000\u0000\u0000\u0000\u0000\u0000\u0000\u0000\u0000\u0000\u0000\u0000\u0000\u0000\u0000\u0000\u0000\u0000\u0000\u0000\u0000\u0000\u0000\u0000\u0000\u0000\u0000\u0000\u0000\u0000\u0000\u0000\u0000\u0000\u0000\u0000\u0000\u0000\u0000\u0000\u0000\u0000\u0000\u0000\u0000\u0000\u0000\u0000\u0000\u0000\u0000\u0000\u0000\u0000\u0000\u0000\u0000\u0000\u0000\u0000\u0000\u0000\u0000\u0000\u0000\u0000\u0000\u0000\u0000\u0000\u0000\u0000\u0000\u0000\u0000\u0000\u0000\u0000\u0000\u0000\u0000\u0000\u0000\u0000\u0000\u0000\u0000\u0000\u0000\u0000\u0000\u0000\u0000\u0000\u0000\u0000\u0000\u0000\u0000\u0000\u0000\u0000\u0000\u0000\u0000\u0000\u0000\u0000\u0000\u0000\u0000\u0000\u0000\u0000\u0000\u0000\u0000\u0000\u0000\u0000\u0000\u0000\u0000\u0000\u0000\u0000\u0000\u0000\u0000\u0000\u0000\u0000\u0000\u0000\u0000\u0000\u0000\u0000\u0000\u0000\u0000\u0000\u0000\u0000\u0000\u0000\u0000\u0000\u0000\u0000\u0000\u0000\u0000\u0000\u0000\u0000\u0000\u0000\u0000\u0000\u0000\u0000\u0000\u0000\u0000\u0000\u0000\u0000\u0000\u0000\u0000\u0000\u0000\u0000\u0000\u0000\u0000\u0000\u0000\u0000\u0000\u0000\u0000\u0000\u0000\u0000\u0000\u0000\u0000\u0000\u0000\u0000\u0000\u0000\u0000\u0000\u0000\u0000\u0000\u0000\u0000\u0000\u0000\u0000\u0000\u0000\u0000\u0000\u0000\u0000\u0000\u0000\u0000\u0000\u0000\u0000\u0000\u0000\u0000\u0000\u0000\u0000\u0000\u0000\u0000\u0000\u0000\u0000\u0000\u0000\u0000\u0000\u0000\u0000\u0000\u0000\u0000\u0000\u0000\u0000\u0000\u0000\u0000\u0000\u0000\u0000\u0000\u0000\u0000\u0000\u0000\u0000\u0000\u0000\u0000\u0000\u0000\u0000\u0000\u0000\u0000\u0000\u0000\u0000\u0000\u0000\u0000\u0000\u0000\u0000\u0000\u0000\u0000\u0000\u0000\u0000\u0000\u0000\u0000\u0000\u0000\u0000\u0000\u0000\u0000\u0000\u0000\u0000\u0000\u0000\u0000\u0000\u0000\u0000\u0000\u0000\u0000\u0000\u0000\u0000\u0000\u0000\u0000\u0000\u0000\u0000\u0000\u0000\u0000\u0000\u0000\u0000\u0000\u0000\u0000\u0000\u0000\u0000\u0000\u0000\u0000\u0000\u0000\u0000\u0000\u0000\u0000\u0000\u0000\u0000\u0000\u0000\u0000\u0000\u0000\u0000\u0000\u0000\u0000\u0000\u0000\u0000\u0000\u0000\u0000\u0000\u0000\u0000\u0000\u0000\u0000\u0000\u0000\u0000\u0000\u0000\u0000\u0000\u0000\u0000\u0000\u0000\u0000\u0000\u0000\u0000\u0000\u0000\u0000\u0000\u0000\u0000\u0000\u0000\u0000\u0000\u0000\u0000\u0000\u0000\u0000\u0000\u0000\u0000\u0000\u0000\u0000\u0000\u0000\u0000\u0000\u0000\u0000\u0000\u0000\u0000\u0000\u0000\u0000\u0000\u0000\u0000\u0000\u0000\u0000\u0000\u0000\u0000\u0000\u0000\u0000\u0000\u0000\u0000\u0000\u0000\u0000\u0000\u0000\u0000\u0000\u0000\u0000\u0000\u0000\u0000\u0000\u0000\u0000\u0000\u0000\u0000\u0000\u0000\u0000\u0000\u0000\u0000\u0000\u0000\u0000\u0000\u0000\u0000\u0000\u0000\u0000\u0000\u0000\u0000\u0000\u0000\u0000\u0000\u0000\u0000\u0000\u0000\u0000\u0000\u0000\u0000\u0000\u0000\u0000\u0000\u0000\u0000\u0000\u0000\u0000\u0000\u0000\u0000\u0000\u0000\u0000\u0000\u0000\u0000\u0000\u0000\u0000\u0000\u0000\u0000\u0000\u0000\u0000\u0000\u0000\u0000\u0000\u0000\u0000\u0000\u0000\u0000\u0000\u0000\u0000\u0000\u0000\u0000\u0000\u0000\u0000\u0000\u0000\u0000\u0000\u0000\u0000\u0000\u0000\u0000\u0000\u0000\u0000\u0000\u0000\u0000\u0000\u0000\u0000\u0000\u0000\u0000\u0000\u0000\u0000\u0000\u0000\u0000\u0000\u0000\u0000\u0000\u0000\u0000\u0000\u0000\u0000\u0000\u0000\u0000\u0000\u0000\u0000\u0000\u0000\u0000\u0000\u0000\u0000\u0000\u0000\u0000\u0000\u0000\u0000\u0000\u0000\u0000\u0000\u0000\u0000\u0000\u0000\u0000\u0000\u0000\u0000\u0000\u0000\u0000\u0000\u0000\u0000\u0000\u0000\u0000\u0000\u0000\u0000\u0000\u0000\u0000\u0000 \u0000\u0000\u0000\u0017\u0000E\u0000m\u0000m\u0000a\u0000-\u00001\u00003\u0000-\u00001\u00000\u00000\u0000m\u0000-\u0000B\u0000r\u0000e\u0000a\u0000s\u0000t\u0000.\u0000t\u0000x\u0000tIlocblob\u0000\u0000\u0000\u0010\u0000\u0000\u0003«\u0000\u0000ÿÿÿÿÿÿ\u0000\u0000\u0000\u0000\u0000\u0015\u0000E\u0000m\u0000m\u0000a\u0000-\u00001\u00003\u0000-\u00001\u00000\u00000\u0000m\u0000-\u0000F\u0000r\u0000e\u0000e\u0000.\u0000t\u0000x\u0000tIlocblob\u0000\u0000\u0000\u0010\u0000\u0000\u0004\u0019\u0000\u0000ÿÿÿÿÿÿ\u0000\u0000\u0000\u0000\u0000\u0018\u0000E\u0000r\u0000i\u0000k\u0000a\u0000-\u00001\u00005\u0000-\u00001\u00000\u00000\u0000m\u0000-\u0000B\u0000r\u0000e\u0000a\u0000s\u0000t\u0000.\u0000t\u0000x\u0000tIlocblob\u0000\u0000\u0000\u0010\u0000\u0000\u0000;\u0000\u0000\u0001xÿÿÿÿÿÿ\u0000\u0000\u0000\u0000\u0000\u0016\u0000E\u0000r\u0000i\u0000k\u0000a\u0000-\u00001\u00005\u0000-\u00001\u00000\u00000\u0000m\u0000-\u0000F\u0000r\u0000e\u0000e\u0000.\u0000t\u0000x\u0000tIlocblob\u0000\u0000\u0000\u0010\u0000\u0000\u0000©\u0000\u0000\u0001xÿÿÿÿÿÿ\u0000\u0000\u0000\u0000\u0000\u0018\u0000E\u0000r\u0000i\u0000k\u0000a\u0000-\u00001\u00005\u0000-\u00002\u00000\u00000\u0000m\u0000-\u0000B\u0000r\u0000e\u0000a\u0000s\u0000t\u0000.\u0000t\u0000x\u0000tIlocblob\u0000\u0000\u0000\u0010\u0000\u0000\u0001\u0017\u0000\u0000\u0001xÿÿÿÿÿÿ\u0000\u0000\u0000\u0000\u0000\u0017\u0000H\u0000a\u0000n\u0000n\u0000a\u0000h\u0000-\u00001\u00003\u0000-\u00001\u00000\u00000\u0000m\u0000-\u0000B\u0000a\u0000c\u0000k\u0000.\u0000t\u0000x\u0000tIlocblob\u0000\u0000\u0000\u0010\u0000\u0000\u0001…\u0000\u0000\u0001xÿÿÿÿÿÿ\u0000\u0000\u0000\u0000\u0000\u0017\u0000H\u0000a\u0000n\u0000n\u0000a\u0000h\u0000-\u00001\u00003\u0000-\u00001\u00000\u00000\u0000m\u0000-\u0000F\u0000r\u0000e\u0000e\u0000.\u0000t\u0000x\u0000tIlocblob\u0000\u0000\u0000\u0010\u0000\u0000\u0001ó\u0000\u0000\u0001xÿÿÿÿÿÿ\u0000\u0000\u0000\u0000\u0000\u0015\u0000K\u0000a\u0000t\u0000i\u0000e\u0000-\u00009\u0000-\u00001\u00000\u00000\u0000m\u0000-\u0000B\u0000a\u0000c\u0000k\u0000.\u0000t\u0000x\u0000tIlocblob\u0000\u0000\u0000\u0010\u0000\u0000\u0004\u0019\u0000\u0000\u0001xÿÿÿÿÿÿ\u0000\u0000\u0000\u0000\u0000\u0017\u0000K\u0000a\u0000t\u0000i\u0000e\u0000-\u00009\u0000-\u00001\u00000\u00000\u0000m\u0000-\u0000B\u0000r\u0000e\u0000a\u0000s\u0000t\u0000.\u0000t\u0000x\u0000tIlocblob\u0000\u0000\u0000\u0010\u0000\u0000\u0000;\u0000\u0000\u0001èÿÿÿÿÿÿ\u0000\u0000\u0000\u0000\u0000\u0015\u0000K\u0000a\u0000t\u0000i\u0000e\u0000-\u00009\u0000-\u00001\u00000\u00000\u0000m\u0000-\u0000F\u0000r\u0000e\u0000e\u0000.\u0000t\u0000x\u0000tIlocblob\u0000\u0000\u0000\u0010\u0000\u0000\u0000©\u0000\u0000\u0001èÿÿÿÿÿÿ\u0000\u0000\u0000\u0000\u0000\u0014\u0000K\u0000a\u0000t\u0000i\u0000e\u0000-\u00009\u0000-\u00005\u00000\u0000m\u0000-\u0000B\u0000a\u0000c\u0000k\u0000.\u0000t\u0000x\u0000tIlocblob\u0000\u0000\u0000\u0010\u0000\u0000\u0002a\u0000\u0000\u0001xÿÿÿÿÿÿ\u0000\u0000\u0000\u0000\u0000\u0016\u0000K\u0000a\u0000t\u0000i\u0000e\u0000-\u00009\u0000-\u00005\u00000\u0000m\u0000-\u0000B\u0000r\u0000e\u0000a\u0000s\u0000t\u0000.\u0000t\u0000x\u0000tIlocblob\u0000\u0000\u0000\u0010\u0000\u0000\u0002Ï\u0000\u0000\u0001xÿÿÿÿÿÿ\u0000\u0000\u0000\u0000\u0000\u0013\u0000K\u0000a\u0000t\u0000i\u0000e\u0000-\u00009\u0000-\u00005\u00000\u0000m\u0000-\u0000F\u0000l\u0000y\u0000.\u0000t\u0000x\u0000tIlocblob\u0000\u0000\u0000\u0010\u0000\u0000\u0003=\u0000\u0000\u0001xÿÿÿÿÿÿ\u0000\u0000\u0000\u0000\u0000\u0014\u0000K\u0000a\u0000t\u0000i\u0000e\u0000-\u00009\u0000-\u00005\u00000\u0000m\u0000-\u0000F\u0000r\u0000e\u0000e\u0000.\u0000t\u0000x\u0000tIlocblob\u0000\u0000\u0000\u0010\u0000\u0000\u0003«\u0000\u0000\u0001xÿÿÿÿÿÿ\u0000\u0000\u0000\u0000\u0000\u0017\u0000L\u0000i\u0000z\u0000z\u0000i\u0000e\u0000-\u00001\u00004\u0000-\u00001\u00000\u00000\u0000m\u0000-\u0000B\u0000a\u0000c\u0000k\u0000.\u0000t\u0000x\u0000tIlocblob\u0000\u0000\u0000\u0010\u0000\u0000\u0001…\u0000\u0000\u0001èÿÿÿÿÿÿ\u0000\u0000\u0000\u0000\u0000\u0017\u0000L\u0000i\u0000z\u0000z\u0000i\u0000e\u0000-\u00001\u00004\u0000-\u00001\u00000\u00000\u0000m\u0000-\u0000F\u0000r\u0000e\u0000e\u0000.\u0000t\u0000x\u0000tIlocblob\u0000\u0000\u0000\u0010\u0000\u0000\u0001ó\u0000\u0000\u0001èÿÿÿÿÿÿ\u0000\u0000\u0000\u0000\u0000\u0014\u0000M\u0000a\u0000r\u0000i\u0000a\u0000-\u00009\u0000-\u00005\u00000\u0000m\u0000-\u0000F\u0000r\u0000e\u0000e\u0000.\u0000t\u0000x\u0000tIlocblob\u0000\u0000\u0000\u0010\u0000\u0000\u0002a\u0000\u0000\u0001èÿÿÿÿÿÿ\u0000\u0000\u0000\u0000\u0000\u0015\u0000M\u0000i\u0000k\u0000e\u0000-\u00001\u00005\u0000-\u00001\u00000\u00000\u0000m\u0000-\u0000B\u0000a\u0000c\u0000k\u0000.\u0000t\u0000x\u0000tIlocblob\u0000\u0000\u0000\u0010\u0000\u0000\u0002Ï\u0000\u0000\u0001èÿÿÿÿÿÿ\u0000\u0000\u0000\u0000\u0000\u0014\u0000M\u0000i\u0000k\u0000e\u0000-\u00001\u00005\u0000-\u00001\u00000\u00000\u0000m\u0000-\u0000F\u0000l\u0000y\u0000.\u0000t\u0000x\u0000tIlocblob\u0000\u0000\u0000\u0010\u0000\u0000\u0003=\u0000\u0000\u0001èÿÿÿÿÿÿ\u0000\u0000\u0000\u0000\u0000\u0015\u0000M\u0000i\u0000k\u0000e\u0000-\u00001\u00005\u0000-\u00001\u00000\u00000\u0000m\u0000-\u0000F\u0000r\u0000e\u0000e\u0000.\u0000t\u0000x\u0000tIlocblob\u0000\u0000\u0000\u0010\u0000\u0000\u0003«\u0000\u0000\u0001èÿÿÿÿÿÿ\u0000\u0000\u0000\u0000\u0000\u0015\u0000M\u0000i\u0000k\u0000e\u0000-\u00001\u00005\u0000-\u00002\u00000\u00000\u0000m\u0000-\u0000F\u0000r\u0000e\u0000e\u0000.\u0000t\u0000x\u0000tIlocblob\u0000\u0000\u0000\u0010\u0000\u0000\u0004\u0019\u0000\u0000\u0001èÿÿÿÿÿÿ\u0000\u0000\u0000\u0000\u0000\u0013\u0000M\u0000i\u0000k\u0000e\u0000-\u00001\u00005\u0000-\u00002\u00000\u00000\u0000m\u0000-\u0000I\u0000M\u0000.\u0000t\u0000x\u0000tIlocblob\u0000\u0000\u0000\u0010\u0000\u0000\u0000;\u0000\u0000\u0002Xÿÿÿÿÿÿ\u0000\u0000\u0000\u0000\u0000\u0015\u0000O\u0000w\u0000e\u0000n\u0000-\u00001\u00005\u0000-\u00001\u00000\u00000\u0000m\u0000-\u0000F\u0000r\u0000e\u0000e\u0000.\u0000t\u0000x\u0000tIlocblob\u0000\u0000\u0000\u0010\u0000\u0000\u0000©\u0000\u0000\u0002Xÿÿÿÿÿÿ\u0000\u0000\u0000\u0000\u0000\u0015\u0000R\u0000u\u0000t\u0000h\u0000-\u00001\u00003\u0000-\u00001\u00000\u00000\u0000m\u0000-\u0000B\u0000a\u0000c\u0000k\u0000.\u0000t\u0000x\u0000tIlocblob\u0000\u0000\u0000\u0010\u0000\u0000\u0001\u0017\u0000\u0000\u0002Xÿÿÿÿÿÿ\u0000\u0000\u0000\u0000\u0000\u0015\u0000R\u0000u\u0000t\u0000h\u0000-\u00001\u00003\u0000-\u00001\u00000\u00000\u0000m\u0000-\u0000F\u0000r\u0000e\u0000e\u0000.\u0000t\u0000x\u0000tIlocblob\u0000\u0000\u0000\u0010\u0000\u0000\u0001…\u0000\u0000\u0002Xÿÿÿÿÿÿ\u0000\u0000\u0000\u0000\u0000\u0015\u0000R\u0000u\u0000t\u0000h\u0000-\u00001\u00003\u0000-\u00002\u00000\u00000\u0000m\u0000-\u0000B\u0000a\u0000c\u0000k\u0000.\u0000t\u0000x\u0000tIlocblob\u0000\u0000\u0000\u0010\u0000\u0000\u0001ó\u0000\u0000\u0002Xÿÿÿÿÿÿ\u0000\u0000\u0000\u0000\u0000\u0015\u0000R\u0000u\u0000t\u0000h\u0000-\u00001\u00003\u0000-\u00002\u00000\u00000\u0000m\u0000-\u0000F\u0000r\u0000e\u0000e\u0000.\u0000t\u0000x\u0000tIlocblob\u0000\u0000\u0000\u0010\u0000\u0000\u0002a\u0000\u0000\u0002Xÿÿÿÿÿÿ\u0000\u0000\u0000\u0000\u0000\u0015\u0000R\u0000u\u0000t\u0000h\u0000-\u00001\u00003\u0000-\u00004\u00000\u00000\u0000m\u0000-\u0000F\u0000r\u0000e\u0000e\u0000.\u0000t\u0000x\u0000tIlocblob\u0000\u0000\u0000\u0010\u0000\u0000\u0002Ï\u0000\u0000\u0002Xÿÿÿÿÿÿ\u0000\u0000\u0000\u0000\u0000\u0017\u0000T\u0000a\u0000s\u0000m\u0000i\u0000n\u0000-\u00001\u00005\u0000-\u00001\u00000\u00000\u0000m\u0000-\u0000B\u0000a\u0000c\u0000k\u0000.\u0000t\u0000x\u0000tIlocblob\u0000\u0000\u0000\u0010\u0000\u0000\u0003=\u0000\u0000\u0002Xÿÿÿÿÿÿ\u0000\u0000\u0000\u0000\u0000\u0019\u0000T\u0000a\u0000s\u0000m\u0000i\u0000n\u0000-\u00001\u00005\u0000-\u00001\u00000\u00000\u0000m\u0000-\u0000B\u0000r\u0000e\u0000a\u0000s\u0000t\u0000.\u0000t\u0000x\u0000tIlocblob\u0000\u0000\u0000\u0010\u0000\u0000\u0003«\u0000\u0000\u0002Xÿÿÿÿÿÿ\u0000\u0000\u0000\u0000\u0000\u0017\u0000T\u0000a\u0000s\u0000m\u0000i\u0000n\u0000-\u00001\u00005\u0000-\u00001\u00000\u00000\u0000m\u0000-\u0000F\u0000r\u0000e\u0000e\u0000.\u0000t\u0000x\u0000tIlocblob\u0000\u0000\u0000\u0010\u0000\u0000\u0004\u0019\u0000\u0000\u0002Xÿÿÿÿÿÿ\u0000\u0000\u0000\u0000\u0000\u0019\u0000T\u0000a\u0000s\u0000m\u0000i\u0000n\u0000-\u00001\u00005\u0000-\u00002\u00000\u00000\u0000m\u0000-\u0000B\u0000r\u0000e\u0000a\u0000s\u0000t\u0000.\u0000t\u0000x\u0000tIlocblob\u0000\u0000\u0000\u0010\u0000\u0000\u0000;\u0000\u0000\u0002Èÿÿÿÿÿÿ\u0000\u0000\u0000\u0000\u0000\u0000\u0000\u0000\u0000\u0000\u0000\u0000\u0000\u0000\u0000\u0000\u0000\u0000\u0000\u0000\u0000\u0000\u0000\u0000\u0000\u0000\u0000\u0000\u0000\u0000\u0000\u0000\u0000\u0000\u0000\u0000\u0000\u0000\u0000\u0000\u0000\u0000\u0000\u0000\u0000\u0000\u0000\u0000\u0000\u0000\u0000\u0000\u0000\u0000\u0000\u0000\u0000\u0000\u0000\u0000\u0000\u0000\u0000\u0000\u0000\u0000\u0000\u0000\u0000\u0000\u0000\u0000\u0000\u0000\u0000\u0000\u0000\u0000\u0000\u0000\u0000\u0000\u0000\u0000\u0000\u0000\u0000\u0000\u0000\u0000\u0000\u0000\u0000\u0000\u0000\u0000\u0000\u0000\u0000\u0000\u0000\u0000\u0000\u0000\u0000\u0000\u0000\u0000\u0000\u0000\u0000\u0000\u0000\u0000\u0000\u0000\u0000\u0000\u0000\u0000\u0000\u0000\u0000\u0000\u0000\u0000\u0000\u0000\u0000\u0000\u0000\u0000\u0000\u0000\u0000\u0000\u0000\u0000\u0000\u0000\u0000\u0000\u0000\u0000\u0000\u0000\u0000\u0000\u0000\u0000\u0000\u0000\u0000\u0000\u0000\u0000\u0000\u0000\u0000\u0000\u0000\u0000\u0000\u0000\u0000\u0000\u0000\u0000\u0000\u0000\u0000\u0000\u0000\u0000\u0000\u0000\u0000\u0000\u0000\u0000\u0000\u0000\u0000\u0000\u0000\u0000\u0000\u0000\u0000\u0000\u0000\u0000\u0000\u0000\u0000\u0000\u0000\u0000\u0000\u0000\u0000\u0000\u0000\u0000\u0000\u0000\u0000\u0000\u0000\u0000\u0000\u0000\u0000\u0000\u0000\u0000\u0000\u0000\u0000\u0000\u0000\u0000\u0000\u0000\u0000\u0000\u0000\u0000\u0000\u0000\u0000\u0000\u0000\u0000\u0000\u0000\u0000\u0000\u0000\u0000\u0000\u0000\u0000\u0000\u0000\u0000\u0000\u0000\u0000\u0000\u0000\u0000\u0000\u0000\u0000\u0000\u0000\u0000\u0000\u0000\u0000\u0000\u0000\u0000\u0000\u0000\u0000\u0000\u0000\u0000\u0000\u0000\u0000\u0000\u0000\u0000\u0000\u0000\u0000\u0000\u0000\u0000\u0000\u0000\u0000\u0000\u0000\u0000\u0000\u0000\u0000\u0000\u0000\u0000\u0000\u0000\u0000\u0000\u0000\u0000\u0000\u0000\u0000\u0000\u0000\u0000\u0000\u0000\u0000\u0000\u0000\u0000\u0000\u0000\u0000\u0000\u0000\u0000\u0000\u0000\u0000\u0000\u0000\u0000\u0000\u0000\u0000\u0000\u0000\u0000\u0000\u0000\u0000\u0000\u0000\u0000\u0000\u0000\u0000\u0000\u0000\u0000\u0000\u0000\u0000\u0000\u0000\u0000\u0000\u0000\u0000\u0000\u0000\u0000\u0000\u0000\u0000\u0000\u0000\u0000\u0000\u0000\u0000\u0000\u0000\u0000\u0000\u0000\u0000\u0000\u0000\u0000\u0000\u0000\u0000\u0000\u0000\u0000\u0000\u0000\u0000\u0000\u0000\u0000\u0000\u0000\u0000\u0000\u0000\u0000\u0000\u0000\u0000\u0000\u0000\u0000\u0000\u0000\u0000\u0000\u0000\u0000\u0000\u0000\u0000\u0000\u0000\u0000\u0000\u0000\u0000\u0000\u0000\u0000\u0000\u0000\u0000\u0000\u0000\u0000\u0000\u0000\u0000\u0000\u0000\u0000\u0000\u0000\u0000\u0000\u0000\u0000\u0000\u0000\u0000\u0000\u0000\u0000\u0000\u0000\u0000\u0000\u0000\u0000\u0000\u0000\u0000\u0000\u0000\u0000\u0000\u0000\u0000\u0000\u0000\u0000\u0000\u0000\u0000\u0000\u0000\u0000\u0000\u0000\u0000\u0000\u0000\u0000\u0000\u0000\u0000\u0000\u0000\u0000\u0000\u0000\u0000\u0000\u0000\u0000\u0000\u0000\u0000\u0000\u0000\u0000\u0000\u0000\u0000\u0000\u0000\u0000\u0000\u0000\u0000\u0000\u0000\u0000\u0000\u0000\u0000\u0000\u0000\u0000\u0000\u0000\u0000\u0000\u0000\u0000\u0000\u0000\u0000\u0000\u0000\u0000\u0000\u0000\u0000\u0000\u0000\u0000\u0000\u0000\u0000\u0000\u0000\u0000\u0000\u0000\u0000\u0000\u0000\u0000\u0000\u0000\u0000\u0000\u0000\u0000\u0000\u0000\u0000\u0000\u0000\u0000\u0000\u0000\u0000\u0000\u0000\u0000\u0000\u0000\u0000\u0000\u0000\u0000\u0000\u0000\u0000\u0000\u0000\u0000\u0000\u0000\u0000\u0000\u0000\u0000\u0000\u0000\u0000\u0000\u0000\u0000\u0000\u0000\u0000\u0000\u0000\u0000\u0000\u0000\u0000\u0000\u0000\u0000\u0000\u0000\u0000\u0000\u0000\u0000\u0000\u0000\u0000\u0000\u0000\u0000\u0000\u0000\u0000\u0000\u0000\u0000\u0000\u0000\u0000\u0000\u0000\u0000\u0000\u0000\u0000\u0000\u0000\u0000\u0000\u0000\u0000\u0000\u0000\u0000\u0000\u0000\u0000\u0000\u0000\u0000\u0000\u0000\u0000\u0000\u0000\u0000\u0000\u0000\u0000\u0000\u0000\u0000\u0000\u0000\u0000\u0000\u0000\u0000\u0000\u0000\u0000\u0000\u0000\u0000\u0000\u0000\u0000\u0000\u0000\u0000\u0000\u0000\u0000\u0000\u0000\u0000\u0000\u0000\u0000\u0000\u0000\u0000\u0000\u0000\u0000\u0000\u0000\u0000\u0000\u0000\u0000\u0000\u0000\u0000\u0000\u0000\u0000\u0000\u0000\u0000\u0000\u0000\u0000\u0000\u0000\u0000\u0000\u0000\u0000\u0000\u0000\u0000\u0000\u0000\u0000\u0000\u0000\u0000\u0000\u0000\u0000\u0000\u0000\u0000\u0000\u0000\u0000\u0000\u0000\u0000\u0000\u0000\u0000\u0000\u0000\u0000\u0000\u0000\u0000\u0000\u0000\u0000\u0000\u0000\u0000\u0000\u0000\u0000\u0000\u0000\u0000\u0000\u0000\u0000\u0000\u0000\u0000\u0000\u0000\u0000\u0000\u0000\u0000\u0000\u0000\u0000\u0000\u0000\u0000\u0000\u0000\u0000\u0000\u0000\u0000\u0000\u0000\u0000\u0000\u0000\u0000\u0000\u0000\u0000\u0000\u0000\u0000\u0000\u0000\u0000\u0000\u0000\u0000\u0000\u0000\u0000\u0000\u0000\u0000\u0000\u0000\u0000\u0000\u0000\u0000\u0000\u0000\u0000\u0000\u0000\u0000\u0000\u0000\u0000\u0000\u0000\u0000\u0000\u0000\u0000\u0000\u0000\u0000\u0000\u0000\u0000\u0000\u0000\u0000\u0000\u0000\u0000\u0000\u0000\u0000\u0000\u0000\u0000\u0000\u0000\u0000\u0000\u0000\u0000\u0000\u0000\u0000\u0000\u0000\u0000\u0000\u0000\u0000\u0000\u0000\u0000\u0000\u0000\u0000\u0000\u0000\u0000\u0000\u0000\u0000\u0000\u0000\u0000\u0000\u0000\u0000\u0000\u0000\u0000\u0000\u0000\u0000\u0000\u0000\u0000\u0000\u0000\u0000\u0000\u0000\u0000\u0000\u0000\u0000\u0000\u0000\u0000\u0000\u0000\u0000\u0000\u0000\u0000\u0000\u0000\u0000\u0000\u0000\u0000\u0000\u0000\u0000\u0000\u0000\u0000\u0000\u0000\u0000\u0000\u0000\u0000\u0000\u0000\u0000\u0000\u0000\u0000\u0000\u0000\u0000\u0000\u0000\u0000\u0000\u0000\u0000\u0000\u0000\u0000\u0000\u0000\u0000\u0000\u0000\u0000\u0000\u0000\u0000\u0000\u0000\u0000\u0000\u0000\u0000\u0000\u0000\u0000\u0000\u0000\u0000\u0000\u0000\u0000\u0000\u0000\u0000\u0000\u0000\u0000\u0000\u0000\u0000\u0000\u0000\u0000\u0000\u0000\u0000\u0000\u0000\u0000\u0000\u0000\u0000\u0000\u0000\u0000\u0000\u0000\u0000\u0000\u0000\u0000\u0000\u0000\u0000\u0000\u0000\u0000\u0000\u0000\u0000\u0000\u0000\u0000\u0000\u0000\u0000\u0000\u0000\u0000\u0000\u0000\u0000\u0000\u0000\u0000\u0000\u0000\u0000\u0000\u0000\u0000\u0000\u0000\u0000\u0000\u0000\u0000\u0000\u0000\u0000\u0000\u0000\u0000\u0000\u0000\u0000\u0000\u0000\u0000\u0000\u0000\u0000\u0000\u0000\u0000\u0000\u0000\u0000\u0000\u0000\u0000\u0000\u0000\u0000\u0000\u0000\u0000\u0000\u0000\u0000\u0000\u0000\u0000\u0000\u0000\u0000\u0000\u0000\u0000\u0000\u0000\u0000\u0000\u0000\u0000\u0000\u0000\u0000\u0000\u0000\u0000\u0000\u0000\u0000\u0000\u0000\u0000\u0000\u0000\u0000\u0000\u0000\u0000\u0000\u0000\u0000\u0000\u0000\u0000\u0000\u0000\u0000\u0000\u0000\u0000\u0000\u0000\u0000\u0000\u0000\u0000\u0000\u0000\u0000\u0000\u0000\u0000\u0000\u0000\u0000\u0000\u0000\u0000\u0000\u0000\u0000\u0000\u0000\u0000\u0000\u0000\u0000\u0000\u0000\u0000\u0000\u0000\u0000\u0000\u0000\u0000\u0000\u0000\u0000\u0000\u0000\u0000\u0000\u0000\u0000\u0000\u0000\u0000\u0000\u0000\u0000\u0000\u0000\u0000\u0000\u0000\u0000\u0000\u0000\u0000\u0000\u0000\u0000\u0000\u0000\u0000\u0000\u0000\u0000\u0000\u0000\u0000\u0000\u0000\u0000\u0000\u0000\u0000\u0000\u0000\u0000\u0000\u0000\u0000\u0000\u0000\u0000\u0000\u0000\u0000\u0000\u0000\u0000\u0000\u0000\u0000\u0000\u0000\u0000\u0000\u0000\u0000\u0000\u0000\u0000\u0000\u0000\u0000\u0000\u0000\u0000\u0000\u0000\u0000\u0000\u0000\u0000\u0000\u0000\u0000\u0000\u0000\u0000\u0000\u0000\u0000\u0000\u0000\u0000\u0000\u0000\u0000\u0000\u0000\u0000\u0000\u0000\u0000\u0000\u0000\u0000\u0000\u0000\u0000\u0000\u0000\u0000\u0000\u0000\u0000\u0000\u0000\u0000\u0000\u0000\u0000\u0000\u0000\u0000\u0000\u0000\u0000\u0000\u0000\u0000\u0000\u0000\u0000\u0000\u0000\u0000\u0000\u0000\u0000\u0000\u0000\u0000\u0000\u0000\u0000\u0000\u0000\u0000\u0000\u0000\u0000\u0000\u0000\u0000\u0000\u0000\u0000\u0000\u0000\u0000\u0000\u0000\u0000\u0000\u0000\u0000\u0000\u0000\u0000\u0000\u0000\u0000\u0000\u0000\u0000\u0000\u0000\u0000\u0000\u0000\u0000\u0000\u0000\u0000\u0000\u0000\u0000\u0000\u0000\u0000\u0000\u0000\u0000\u0000\u0000\u0000\u0000\u0000\u0000\u0000\u0000\u0000\u0000\u0000\u0000\u0000\u0000\u0000\u0000\u0000\u0000\u0000\u0000\u0000\u0000\u0000\u0000\u0000\u0000\u0000\u0000\u0000\u0000\u0000\u0000\u0000\u0000\u0000\u0000\u0000\u0000\u0000\u0000\u0000\u0000\u0000\u0000\u0000\u0000\u0000\u0000\u0000\u0000\u0000\u0000\u0000\u0000\u0000\u0000\u0000\u0000\u0000\u0000\u0000\u0000\u0000\u0000\u0000\u0000\u0000\u0000\u0000\u0000\u0000\u0000\u0000\u0000\u0000\u0000\u0000\u0000\u0000\u0000\u0000\u0000\u0000\u0000\u0000\u0000\u0000\u0000\u0000\u0000\u0000\u0000\u0000\u0000\u0000\u0000\u0000\u0000\u0000\u0000\u0000\u0000\u0000\u0000\u0000\u0000\u0000\u0000\u0000\u0000\u0000\u0000\u0000\u0000\u0000\u0000\u0000\u0000\u0000\u0000\u0000\u0000\u0000\u0000\u0000\u0000\u0000\u0000\u0000\u0000\u0000\u0000\u0000\u0000\u0000\u0000\u0000\u0000\u0000\u0000\u0000\u0000\u0000\u0000\u0000\u0000\u0000\u0000\u0000\u0000\u0000\u0000\u0000\u0000\u0000\u0000\u0000\u0000\u0000\u0000\u0000\u0000\u0000\u0000\u0000\u0000\u0000\u0000\u0000\u0000\u0000\u0000\u0000\u0000\u0000\u0000\u0000\u0000\u0000\u0000\u0000\u0000\u0000\u0000\u0000\u0000\u0000\u0000\u0000\u0000\u0000\u0000\u0000\u0000\u0000\u0000\u0000\u0000\u0000\u0000\u0000\u0000\u0000\u0000\u0000\u0000\u0000\u0000\u0000\u0000\u0000\u0000\u0000\u0000\u0000\u0000\u0000\u0000\u0000\u0000\u0000\u0000\u0000\u0000\u0000\u0000\u0000\u0000\u0000\u0000\u0000\u0000\u0000\u0000\u0000\u0000\u0000\u0000\u0000\u0000\u0000\u0000\u0000\u0000\u0000\u0000\u0000\u0000\u0000\u0000\u0000\u0000\u0000\u0000\u0000\u0000\u0000\u0000\u0000\u0000\u0000\u0000\u0000\u0000\u0000\u0000\u0000\u0000\u0000\u0000\u0000\u0000\u0000\u0000\u0000\u0000\u0000\u0000\u0000\u0000\u0000\u0000\u0000\u0000\u0000\u0000\u0000\u0000\u0000\u0000\u0000\u0000\u0000\u0000\u0000\u0000\u0000\u0000\u0000\u0000\u0000\u0000\u0000\u0000\u0000\u0000\u0000\u0000\u0000\u0000\u0000\u0000\u0000\u0000\u0000\u0000\u0000\u0000\u0000\u0000\u0000\u0000\u0000\u0000\u0000\u0000\u0000\u0000\u0000\u0000\u0000\u0000\u0000\u0000\u0000\u0000\u0000\u0000\u0000\u0000\u0000\u0000\u0000\u0000\u0000\u0000\u0000\u0000\u0000\u0000\u0000\u0000\u0000\u0000\u0000\u0000\u0000\u0000\u0000\u0000\u0000\u001b\u0000\u0000\u0000\u0014\u0000A\u0000b\u0000i\u0000-\u00001\u00000\u0000-\u00001\u00000\u00000\u0000m\u0000-\u0000B\u0000a\u0000c\u0000k\u0000.\u0000t\u0000x\u0000tIlocblob\u0000\u0000\u0000\u0010\u0000\u0000\u0001…\u0000\u0000\u0000(ÿÿÿÿÿÿ\u0000\u0000\u0000\u0000\u0000\u0016\u0000A\u0000b\u0000i\u0000-\u00001\u00000\u0000-\u00001\u00000\u00000\u0000m\u0000-\u0000B\u0000r\u0000e\u0000a\u0000s\u0000t\u0000.\u0000t\u0000x\u0000tIlocblob\u0000\u0000\u0000\u0010\u0000\u0000\u0001ó\u0000\u0000\u0000(ÿÿÿÿÿÿ\u0000\u0000\u0000\u0000\u0000\u0013\u0000A\u0000b\u0000i\u0000-\u00001\u00000\u0000-\u00005\u00000\u0000m\u0000-\u0000B\u0000a\u0000c\u0000k\u0000.\u0000t\u0000x\u0000tIlocblob\u0000\u0000\u0000\u0010\u0000\u0000\u0000;\u0000\u0000\u0000(ÿÿÿÿÿÿ\u0000\u0000\u0000\u0000\u0000\u0015\u0000A\u0000b\u0000i\u0000-\u00001\u00000\u0000-\u00005\u00000\u0000m\u0000-\u0000B\u0000r\u0000e\u0000a\u0000s\u0000t\u0000.\u0000t\u0000x\u0000tIlocblob\u0000\u0000\u0000\u0010\u0000\u0000\u0000©\u0000\u0000\u0000(ÿÿÿÿÿÿ\u0000\u0000\u0000\u0000\u0000\u0013\u0000A\u0000b\u0000i\u0000-\u00001\u00000\u0000-\u00005\u00000\u0000m\u0000-\u0000F\u0000r\u0000e\u0000e\u0000.\u0000t\u0000x\u0000tIlocblob\u0000\u0000\u0000\u0010\u0000\u0000\u0001\u0017\u0000\u0000\u0000(ÿÿÿÿÿÿ\u0000\u0000\u0000\u0000\u0000\u0014\u0000A\u0000l\u0000i\u0000-\u00001\u00002\u0000-\u00001\u00000\u00000\u0000m\u0000-\u0000B\u0000a\u0000c\u0000k\u0000.\u0000t\u0000x\u0000tIlocblob\u0000\u0000\u0000\u0010\u0000\u0000\u0002a\u0000\u0000\u0000(ÿÿÿÿÿÿ\u0000\u0000\u0000\u0000\u0000\u0014\u0000A\u0000l\u0000i\u0000-\u00001\u00002\u0000-\u00001\u00000\u00000\u0000m\u0000-\u0000F\u0000r\u0000e\u0000e\u0000.\u0000t\u0000x\u0000tIlocblob\u0000\u0000\u0000\u0010\u0000\u0000\u0002Ï\u0000\u0000\u0000(ÿÿÿÿÿÿ\u0000\u0000\u0000\u0000\u0000\u0019\u0000A\u0000l\u0000i\u0000s\u0000o\u0000n\u0000-\u00001\u00004\u0000-\u00001\u00000\u00000\u0000m\u0000-\u0000B\u0000r\u0000e\u0000a\u0000s\u0000t\u0000.\u0000t\u0000x\u0000tIlocblob\u0000\u0000\u0000\u0010\u0000\u0000\u0003=\u0000\u0000\u0000(ÿÿÿÿÿÿ\u0000\u0000\u0000\u0000\u0000\u0017\u0000A\u0000l\u0000i\u0000s\u0000o\u0000n\u0000-\u00001\u00004\u0000-\u00001\u00000\u00000\u0000m\u0000-\u0000F\u0000r\u0000e\u0000e\u0000.\u0000t\u0000x\u0000tIlocblob\u0000\u0000\u0000\u0010\u0000\u0000\u0003«\u0000\u0000\u0000(ÿÿÿÿÿÿ\u0000\u0000\u0000\u0000\u0000\u0016\u0000A\u0000u\u0000r\u0000o\u0000r\u0000a\u0000-\u00001\u00003\u0000-\u00005\u00000\u0000m\u0000-\u0000F\u0000r\u0000e\u0000e\u0000.\u0000t\u0000x\u0000tIlocblob\u0000\u0000\u0000\u0010\u0000\u0000\u0004\u0019\u0000\u0000\u0000(ÿÿÿÿÿÿ\u0000\u0000\u0000\u0000\u0000\u0015\u0000B\u0000i\u0000l\u0000l\u0000-\u00001\u00008\u0000-\u00001\u00000\u00000\u0000m\u0000-\u0000B\u0000a\u0000c\u0000k\u0000.\u0000t\u0000x\u0000tIlocblob\u0000\u0000\u0000\u0010\u0000\u0000\u0000;\u0000\u0000\u0000˜ÿÿÿÿÿÿ\u0000\u0000\u0000\u0000\u0000\u0015\u0000B\u0000i\u0000l\u0000l\u0000-\u00001\u00008\u0000-\u00002\u00000\u00000\u0000m\u0000-\u0000B\u0000a\u0000c\u0000k\u0000.\u0000t\u0000x\u0000tIlocblob\u0000\u0000\u0000\u0010\u0000\u0000\u0000©\u0000\u0000\u0000˜ÿÿÿÿÿÿ\u0000\u0000\u0000\u0000\u0000\u0016\u0000B\u0000l\u0000a\u0000k\u0000e\u0000-\u00001\u00005\u0000-\u00001\u00000\u00000\u0000m\u0000-\u0000B\u0000a\u0000c\u0000k\u0000.\u0000t\u0000x\u0000tIlocblob\u0000\u0000\u0000\u0010\u0000\u0000\u0001\u0017\u0000\u0000\u0000˜ÿÿÿÿÿÿ\u0000\u0000\u0000\u0000\u0000\u0015\u0000B\u0000l\u0000a\u0000k\u0000e\u0000-\u00001\u00005\u0000-\u00001\u00000\u00000\u0000m\u0000-\u0000F\u0000l\u0000y\u0000.\u0000t\u0000x\u0000tIlocblob\u0000\u0000\u0000\u0010\u0000\u0000\u0001…\u0000\u0000\u0000˜ÿÿÿÿÿÿ\u0000\u0000\u0000\u0000\u0000\u0016\u0000B\u0000l\u0000a\u0000k\u0000e\u0000-\u00001\u00005\u0000-\u00001\u00000\u00000\u0000m\u0000-\u0000F\u0000r\u0000e\u0000e\u0000.\u0000t\u0000x\u0000tIlocblob\u0000\u0000\u0000\u0010\u0000\u0000\u0001ó\u0000\u0000\u0000˜ÿÿÿÿÿÿ\u0000\u0000\u0000\u0000\u0000\u0015\u0000C\u0000a\u0000l\u0000v\u0000i\u0000n\u0000-\u00009\u0000-\u00005\u00000\u0000m\u0000-\u0000B\u0000a\u0000c\u0000k\u0000.\u0000t\u0000x\u0000tIlocblob\u0000\u0000\u0000\u0010\u0000\u0000\u0002a\u0000\u0000\u0000˜ÿÿÿÿÿÿ\u0000\u0000\u0000\u0000\u0000\u0014\u0000C\u0000a\u0000l\u0000v\u0000i\u0000n\u0000-\u00009\u0000-\u00005\u00000\u0000m\u0000-\u0000F\u0000l\u0000y\u0000.\u0000t\u0000x\u0000tIlocblob\u0000\u0000\u0000\u0010\u0000\u0000\u0002Ï\u0000\u0000\u0000˜ÿÿÿÿÿÿ\u0000\u0000\u0000\u0000\u0000\u0015\u0000C\u0000a\u0000l\u0000v\u0000i\u0000n\u0000-\u00009\u0000-\u00005\u00000\u0000m\u0000-\u0000F\u0000r\u0000e\u0000e\u0000.\u0000t\u0000x\u0000tIlocblob\u0000\u0000\u0000\u0010\u0000\u0000\u0003=\u0000\u0000\u0000˜ÿÿÿÿÿÿ\u0000\u0000\u0000\u0000\u0000\u0015\u0000C\u0000a\u0000r\u0000l\u0000-\u00001\u00005\u0000-\u00001\u00000\u00000\u0000m\u0000-\u0000B\u0000a\u0000c\u0000k\u0000.\u0000t\u0000x\u0000tIlocblob\u0000\u0000\u0000\u0010\u0000\u0000\u0003«\u0000\u0000\u0000˜ÿÿÿÿÿÿ\u0000\u0000\u0000\u0000\u0000\u0016\u0000C\u0000h\u0000r\u0000i\u0000s\u0000-\u00001\u00007\u0000-\u00001\u00000\u00000\u0000m\u0000-\u0000B\u0000a\u0000c\u0000k\u0000.\u0000t\u0000x\u0000tIlocblob\u0000\u0000\u0000\u0010\u0000\u0000\u0004\u0019\u0000\u0000\u0000˜ÿÿÿÿÿÿ\u0000\u0000\u0000\u0000\u0000\u0018\u0000C\u0000h\u0000r\u0000i\u0000s\u0000-\u00001\u00007\u0000-\u00001\u00000\u00000\u0000m\u0000-\u0000B\u0000r\u0000e\u0000a\u0000s\u0000t\u0000.\u0000t\u0000x\u0000tIlocblob\u0000\u0000\u0000\u0010\u0000\u0000\u0000;\u0000\u0000ÿÿÿÿÿÿ\u0000\u0000\u0000\u0000\u0000\u0017\u0000D\u0000a\u0000r\u0000i\u0000u\u0000s\u0000-\u00001\u00003\u0000-\u00001\u00000\u00000\u0000m\u0000-\u0000B\u0000a\u0000c\u0000k\u0000.\u0000t\u0000x\u0000tIlocblob\u0000\u0000\u0000\u0010\u0000\u0000\u0000©\u0000\u0000ÿÿÿÿÿÿ\u0000\u0000\u0000\u0000\u0000\u0019\u0000D\u0000a\u0000r\u0000i\u0000u\u0000s\u0000-\u00001\u00003\u0000-\u00001\u00000\u00000\u0000m\u0000-\u0000B\u0000r\u0000e\u0000a\u0000s\u0000t\u0000.\u0000t\u0000x\u0000tIlocblob\u0000\u0000\u0000\u0010\u0000\u0000\u0001\u0017\u0000\u0000ÿÿÿÿÿÿ\u0000\u0000\u0000\u0000\u0000\u0016\u0000D\u0000a\u0000r\u0000i\u0000u\u0000s\u0000-\u00001\u00003\u0000-\u00001\u00000\u00000\u0000m\u0000-\u0000F\u0000l\u0000y\u0000.\u0000t\u0000x\u0000tIlocblob\u0000\u0000\u0000\u0010\u0000\u0000\u0001…\u0000\u0000ÿÿÿÿÿÿ\u0000\u0000\u0000\u0000\u0000\u0015\u0000D\u0000a\u0000r\u0000i\u0000u\u0000s\u0000-\u00001\u00003\u0000-\u00002\u00000\u00000\u0000m\u0000-\u0000I\u0000M\u0000.\u0000t\u0000x\u0000tIlocblob\u0000\u0000\u0000\u0010\u0000\u0000\u0001ó\u0000\u0000ÿÿÿÿÿÿ\u0000\u0000\u0000\u0000\u0000\u0015\u0000D\u0000a\u0000v\u0000e\u0000-\u00001\u00007\u0000-\u00001\u00000\u00000\u0000m\u0000-\u0000F\u0000r\u0000e\u0000e\u0000.\u0000t\u0000x\u0000tIlocblob\u0000\u0000\u0000\u0010\u0000\u0000\u0002a\u0000\u0000ÿÿÿÿÿÿ\u0000\u0000\u0000\u0000\u0000\u0015\u0000D\u0000a\u0000v\u0000e\u0000-\u00001\u00007\u0000-\u00002\u00000\u00000\u0000m\u0000-\u0000B\u0000a\u0000c\u0000k\u0000.\u0000t\u0000x\u0000tIlocblob\u0000\u0000\u0000\u0010\u0000\u0000\u0002Ï\u0000\u0000ÿÿÿÿÿÿ\u0000\u0000\u0000\u0015\u0000R\u0000u\u0000t\u0000h\u0000-\u00001\u00003\u0000\u0000\u0000\u0005\u0000\u0000\u0000\u0000\u0000\u0000(\u000b\u0000\u0000\u0000E\u0000\u0000\u0010\f\u0000\u0000\u0000‡\u0000\u0000 \u000b\u0000\u0000\u0000\u0000\u0000\u0000\u0000\u0000\u0000\u0000\u0000\u0000\u0000\u0000\u0000\u0000\u0000\u0000\u0000\u0000\u0000\u0000\u0000\u0000\u0000\u0000\u0000\u0000\u0000\u0000\u0000\u0000\u0000\u0000\u0000\u0000\u0000\u0000\u0000\u0000\u0000\u0000\u0000\u0000\u0000\u0000\u0000\u0000\u0000\u0000\u0000\u0000\u0000\u0000\u0000\u0000\u0000\u0000\u0000\u0000\u0000\u0000\u0000\u0000\u0000\u0000\u0000\u0000\u0000\u0000\u0000\u0000\u0000\u0000\u0000\u0000\u0000\u0000\u0000\u0000\u0000\u0000\u0000\u0000\u0000\u0000\u0000\u0000\u0000\u0000\u0000\u0000\u0000\u0000\u0000\u0000\u0000\u0000\u0000\u0000\u0000\u0000\u0000\u0000\u0000\u0000\u0000\u0000\u0000\u0000\u0000\u0000\u0000\u0000\u0000\u0000\u0000\u0000\u0000\u0000\u0000\u0000\u0000\u0000\u0000\u0000\u0000\u0000\u0000\u0000\u0000\u0000\u0000\u0000\u0000\u0000\u0000\u0000\u0000\u0000\u0000\u0000\u0000\u0000\u0000\u0000\u0000\u0000\u0000\u0000\u0000\u0000\u0000\u0000\u0000\u0000\u0000\u0000\u0000\u0000\u0000\u0000\u0000\u0000\u0000\u0000\u0000\u0000\u0000\u0000\u0000\u0000\u0000\u0000\u0000\u0000\u0000\u0000\u0000\u0000\u0000\u0000\u0000\u0000\u0000\u0000\u0000\u0000\u0000\u0000\u0000\u0000\u0000\u0000\u0000\u0000\u0000\u0000\u0000\u0000\u0000\u0000\u0000\u0000\u0000\u0000\u0000\u0000\u0000\u0000\u0000\u0000\u0000\u0000\u0000\u0000\u0000\u0000\u0000\u0000\u0000\u0000\u0000\u0000\u0000\u0000\u0000\u0000\u0000\u0000\u0000\u0000\u0000\u0000\u0000\u0000\u0000\u0000\u0000\u0000\u0000\u0000\u0000\u0000\u0000\u0000\u0000\u0000\u0000\u0000\u0000\u0000\u0000\u0000\u0000\u0000\u0000\u0000\u0000\u0000\u0000\u0000\u0000\u0000\u0000\u0000\u0000\u0000\u0000\u0000\u0000\u0000\u0000\u0000\u0000\u0000\u0000\u0000\u0000\u0000\u0000\u0000\u0000\u0000\u0000\u0000\u0000\u0000\u0000\u0000\u0000\u0000\u0000\u0000\u0000\u0000\u0000\u0000\u0000\u0000\u0000\u0000\u0000\u0000\u0000\u0000\u0000\u0000\u0000\u0000\u0000\u0000\u0000\u0000\u0000\u0000\u0000\u0000\u0000\u0000\u0000\u0000\u0000\u0000\u0000\u0000\u0000\u0000\u0000\u0000\u0000\u0000\u0000\u0000\u0000\u0000\u0000\u0000\u0000\u0000\u0000\u0000\u0000\u0000\u0000\u0000\u0000\u0000\u0000\u0000\u0000\u0000\u0000\u0000\u0000\u0000\u0000\u0000\u0000\u0000\u0000\u0000\u0000\u0000\u0000\u0000\u0000\u0000\u0000\u0000\u0000\u0000\u0000\u0000\u0000\u0000\u0000\u0000\u0000\u0000\u0000\u0000\u0000\u0000\u0000\u0000\u0000\u0000\u0000\u0000\u0000\u0000\u0000\u0000\u0000\u0000\u0000\u0000\u0000\u0000\u0000\u0000\u0000\u0000\u0000\u0000\u0000\u0000\u0000\u0000\u0000\u0000\u0000\u0000\u0000\u0000\u0000\u0000\u0000\u0000\u0000\u0000\u0000\u0000\u0000\u0000\u0000\u0000\u0000\u0000\u0000\u0000\u0000\u0000\u0000\u0000\u0000\u0000\u0000\u0000\u0000\u0000\u0000\u0000\u0000\u0000\u0000\u0000\u0000\u0000\u0000\u0000\u0000\u0000\u0000\u0000\u0000\u0000\u0000\u0000\u0000\u0000\u0000\u0000\u0000\u0000\u0000\u0000\u0000\u0000\u0000\u0000\u0000\u0000\u0000\u0000\u0000\u0000\u0000\u0000\u0000\u0000\u0000\u0000\u0000\u0000\u0000\u0000\u0000\u0000\u0000\u0000\u0000\u0000\u0000\u0000\u0000\u0000\u0000\u0000\u0000\u0000\u0000\u0000\u0000\u0000\u0000\u0000\u0000\u0000\u0000\u0000\u0000\u0000\u0000\u0000\u0000\u0000\u0000\u0000\u0000\u0000\u0000\u0000\u0000\u0000\u0000\u0000\u0000\u0000\u0000\u0000\u0000\u0000\u0000\u0000\u0000\u0000\u0000\u0000\u0000\u0000\u0000\u0000\u0000\u0000\u0000\u0000\u0000\u0000\u0000\u0000\u0000\u0000\u0000\u0000\u0000\u0000\u0000\u0000\u0000\u0000\u0000\u0000\u0000\u0000\u0000\u0000\u0000\u0000\u0000\u0000\u0000\u0000\u0000\u0000\u0000\u0000\u0000\u0000\u0000\u0000\u0000\u0000\u0000\u0000\u0000\u0000\u0000\u0000\u0000\u0000\u0000\u0000\u0000\u0000\u0000\u0000\u0000\u0000\u0000\u0000\u0000\u0000\u0000\u0000\u0000\u0000\u0000\u0000\u0000\u0000\u0000\u0000\u0000\u0000\u0000\u0000\u0000\u0000\u0000\u0000\u0000\u0000\u0000\u0000\u0000\u0000\u0000\u0000\u0000\u0000\u0000\u0000\u0000\u0000\u0000\u0000\u0000\u0000\u0000\u0000\u0000\u0000\u0000\u0000\u0000\u0000\u0000\u0000\u0000\u0000\u0000\u0000\u0000\u0000\u0000\u0000\u0000\u0000\u0000\u0000\u0000\u0000\u0000\u0000\u0000\u0000\u0000\u0000\u0000\u0000\u0000\u0000\u0000\u0000\u0000\u0000\u0000\u0000\u0000\u0000\u0000\u0000\u0000\u0000\u0000\u0000\u0000\u0000\u0000\u0000\u0000\u0000\u0000\u0000\u0000\u0000\u0000\u0000\u0000\u0000\u0000\u0000\u0000\u0000\u0000\u0000\u0000\u0000\u0000\u0000\u0000\u0000\u0000\u0000\u0000\u0000\u0000\u0000\u0000\u0000\u0000\u0000\u0000\u0000\u0000\u0000\u0000\u0000\u0000\u0000\u0000\u0000\u0000\u0000\u0000\u0000\u0000\u0000\u0000\u0000\u0000\u0000\u0000\u0000\u0000\u0000\u0000\u0000\u0000\u0000\u0000\u0000\u0000\u0000\u0000\u0000\u0000\u0000\u0000\u0000\u0000\u0000\u0000\u0000\u0000\u0000\u0000\u0000\u0000\u0000\u0000\u0000\u0000\u0000\u0000\u0000\u0000\u0000\u0000\u0000\u0000\u0000\u0000\u0000\u0000\u0000\u0000\u0000\u0000\u0000\u0000\u0000\u0000\u0000\u0000\u0000\u0000\u0000\u0000\u0000\u0000\u0000\u0000\u0000\u0000\u0000\u0000\u0000\u0000\u0000\u0000\u0000\u0000\u0000\u0000\u0000\u0000\u0000\u0000\u0000\u0000\u0000\u0000\u0000\u0000\u0000\u0000\u0000\u0000\u0000\u0000\u0000\u0000\u0000\u0000\u0000\u0000\u0000\u0000\u0000\u0000\u0000\u0000\u0000\u0000\u0000\u0000\u0000\u0000\u0000\u0000\u0000\u0000\u0000\u0000\u0000\u0000\u0000\u0000\u0000\u0000\u0000\u0000\u0000\u0000\u0000\u0000\u0000\u0000\u0000\u0000\u0000\u0000\u0000\u0000\u0000\u0000\u0000\u0000\u0000\u0000\u0000\u0000\u0000\u0000\u0000\u0000\u0000\u0000\u0000\u0000\u0000\u0000\u0000\u0000\u0000\u0000\u0000\u0000\u0000\u0000\u0000\u0000\u0000\u0000\u0000\u0000\u0000\u0000\u0000\u0000\u0000\u0000\u0000\u0000\u0000\u0000\u0000\u0000\u0000\u0000\u0000\u0000\u0000\u0000\u0000\u0000\u0000\u0000\u0000\u0000\u0000\u0000\u0000\u0000\u0000\u0000\u0000\u0000\u0000\u0000\u0000\u0000\u0000\u0000\u0000\u0000\u0000\u0000\u0000\u0000\u0000\u0000\u0000\u0000\u0000\u0000\u0000\u0000\u0000\u0000\u0000\u0000\u0000\u0000\u0000\u0000\u0000\u0000\u0000\u0000\u0000\u0000\u0000\u0000\u0000\u0000\u0000\u0000\u0000\u0000\u0000\u0000\u0000\u0000\u0000\u0000\u0000\u0000\u0000\u0000\u0000\u0000\u0000\u0000\u0000\u0000\u0000\u0000\u0000\u0000\u0000\u0000\u0000\u0000\u0001\u0004DSDB\u0000\u0000\u0000\u0001\u0000\u0000\u0000\u0000\u0000\u0000\u0000\u0000\u0000\u0000\u0000\u0000\u0000\u0000\u0000\u0000\u0000\u0000\u0000\u0000\u0000\u0000\u0000\u0002\u0000\u0000\u0000 \u0000\u0000\u0000`\u0000\u0000\u0000\u0000\u0000\u0000\u0000\u0000\u0000\u0000\u0000\u0001\u0000\u0000\u0001\u0000\u0000\u0000\u0000\u0001\u0000\u0000\u0002\u0000\u0000\u0000\u0000\u0001\u0000\u0000\u0004\u0000\u0000\u0000\u0000\u0001\u0000\u0000\u0000\u0000\u0000\u0001\u0000\u00000\u0000\u0000\u0000\u0000\u0000\u0000\u0000\u0000\u0001\u0000\u0000@\u0000\u0000\u0000\u0000\u0001\u0000\u0000€\u0000\u0000\u0000\u0000\u0001\u0000\u0001\u0000\u0000\u0000\u0000\u0000\u0001\u0000\u0002\u0000\u0000\u0000\u0000\u0000\u0001\u0000\u0004\u0000\u0000\u0000\u0000\u0000\u0001\u0000\u0000\u0000\u0000\u0000\u0001\u0000\u0010\u0000\u0000\u0000\u0000\u0000\u0001\u0000 \u0000\u0000\u0000\u0000\u0000\u0001\u0000@\u0000\u0000\u0000\u0000\u0000\u0001\u0000€\u0000\u0000\u0000\u0000\u0000\u0001\u0001\u0000\u0000\u0000\u0000\u0000\u0000\u0001\u0002\u0000\u0000\u0000\u0000\u0000\u0000\u0001\u0004\u0000\u0000\u0000\u0000\u0000\u0000\u0000\u0000\u0000\u0000\u0000\u0000\u0001\u0010\u0000\u0000\u0000\u0000\u0000\u0000\u0001 \u0000\u0000\u0000\u0000\u0000\u0000\u0001@\u0000\u0000\u0000\u0000\u0000\u0000\u0000\u0000\u0000\u0000\u0000\u0015\u0000C\u0000a\u0000l\u0000v\u0000i\u0000n\u0000-\u00009\u0000-\u00005\u00000\u0000m\u0000-\u0000F\u0000r\u0000e\u0000e\u0000.\u0000t\u0000x\u0000tIlocblob\u0000\u0000\u0000\u0010\u0000\u0000\u0003=\u0000\u0000\u0000˜ÿÿÿÿÿÿ\u0000\u0000\u0000\u0000\u0000\u0015\u0000C\u0000a\u0000r\u0000l\u0000-\u00001\u00005\u0000-\u00001\u00000\u00000\u0000m\u0000-\u0000B\u0000a\u0000c\u0000k\u0000.\u0000t\u0000x\u0000tIlocblob\u0000\u0000\u0000\u0010\u0000\u0000\u0003«\u0000\u0000\u0000˜ÿÿÿÿÿÿ\u0000\u0000\u0000\u0000\u0000\u0016\u0000C\u0000h\u0000r\u0000i\u0000s\u0000-\u00001\u00007\u0000-\u00001\u00000\u00000\u0000m\u0000-\u0000B\u0000a\u0000c\u0000k\u0000.\u0000t\u0000x\u0000tIlocblob\u0000\u0000\u0000\u0010\u0000\u0000\u0004\u0019\u0000\u0000\u0000˜ÿÿÿÿÿÿ\u0000\u0000\u0000\u0000\u0000\u0018\u0000C\u0000h\u0000r\u0000i\u0000s\u0000-\u00001\u00007\u0000-\u00001\u00000\u00000\u0000m\u0000-\u0000B\u0000r\u0000e\u0000a\u0000s\u0000t\u0000.\u0000t\u0000x\u0000tIlocblob\u0000\u0000\u0000\u0010\u0000\u0000\u0000;\u0000\u0000ÿÿÿÿÿÿ\u0000\u0000\u0000\u0000\u0000\u0017\u0000D\u0000a\u0000r\u0000i\u0000u\u0000s\u0000-\u00001\u00003\u0000-\u00001\u00000\u00000\u0000m\u0000-\u0000B\u0000a\u0000c\u0000k\u0000.\u0000t\u0000x\u0000tIlocblob\u0000\u0000\u0000\u0010\u0000\u0000\u0000©\u0000\u0000ÿÿÿÿÿÿ\u0000\u0000\u0000\u0000\u0000\u0019\u0000D\u0000a\u0000r\u0000i\u0000u\u0000s\u0000-\u00001\u00003\u0000-\u00001\u00000\u00000\u0000m\u0000-\u0000B\u0000r\u0000e\u0000a\u0000s\u0000t\u0000.\u0000t\u0000x\u0000tIlocblob\u0000\u0000\u0000\u0010\u0000\u0000\u0001\u0017\u0000\u0000ÿÿÿÿÿÿ\u0000\u0000\u0000\u0000\u0000\u0016\u0000D\u0000a\u0000r\u0000i\u0000u\u0000s\u0000-\u00001\u00003\u0000-\u00001\u00000\u00000\u0000m\u0000-\u0000F\u0000l\u0000y\u0000.\u0000t\u0000x\u0000tIlocblob\u0000\u0000\u0000\u0010\u0000\u0000\u0001…\u0000\u0000ÿÿÿÿÿÿ\u0000\u0000\u0000\u0000\u0000\u0015\u0000D\u0000a\u0000r\u0000i\u0000u\u0000s\u0000-\u00001\u00003\u0000-\u00002\u00000\u00000\u0000m\u0000-\u0000I\u0000M\u0000.\u0000t\u0000x\u0000tIlocblob\u0000\u0000\u0000\u0010\u0000\u0000\u0001ó\u0000\u0000ÿÿÿÿÿÿ\u0000\u0000\u0000\u0000\u0000\u0015\u0000D\u0000a\u0000v\u0000e\u0000-\u00001\u00007\u0000-\u00001\u00000\u00000\u0000m\u0000-\u0000F\u0000r\u0000e\u0000e\u0000.\u0000t\u0000x\u0000tIlocblob\u0000\u0000\u0000\u0010\u0000\u0000\u0002a\u0000\u0000ÿÿÿÿÿÿ\u0000\u0000\u0000\u0000\u0000\u0015\u0000D\u0000a\u0000v\u0000e\u0000-\u00001\u00007\u0000-\u00002\u00000\u00000\u0000m\u0000-\u0000B\u0000a\u0000c\u0000k\u0000.\u0000t\u0000x\u0000tIlocblob\u0000\u0000\u0000\u0010\u0000\u0000\u0002Ï\u0000\u0000ÿÿÿÿÿÿ\u0000\u0000\u0000\u0015\u0000R\u0000u\u0000t\u0000h\u0000-\u00001\u00003\n",
      "1:31.59\n",
      "1:26.55\n",
      "1:28.75\n",
      "1:39.79\n",
      "1:32.37\n",
      "1:42.97\n",
      "1:43.31\n",
      "1:43.50\n",
      "1:40.34\n",
      "41.50\n",
      "43.58\n",
      "42.35\n",
      "43.35\n",
      "39.85\n",
      "40.53\n",
      "42.14\n",
      "39.18\n",
      "40.89\n",
      "40.89\n",
      "48.08\n",
      "53.17\n",
      "45.76\n",
      "49.28\n",
      "52.85\n",
      "46.19\n",
      "47.76\n",
      "48.83\n",
      "45.71\n",
      "47.76\n",
      "39.07\n",
      "37.66\n",
      "36.13\n",
      "39.42\n",
      "1:36.54\n",
      "1:39.10\n",
      "1:39.45\n",
      "1:42.87\n",
      "1:27.31\n",
      "1:27.00\n",
      "1:27.46\n",
      "1:22.50\n",
      "1:20.39\n",
      "1:26.04\n",
      "1:20.22\n",
      "1:34.71\n",
      "1:37.87\n",
      "1:35.15\n",
      "1:37.20\n",
      "1:36.29\n",
      "1:36.00\n",
      "1:35.63\n",
      "1:35.42\n",
      "1:42.01\n",
      "1:13.86\n",
      "1:12.00\n",
      "1:14.69\n",
      "1:10.01\n",
      "1:12.24\n",
      "1:11.00\n",
      "1:11.20\n",
      "1:12.28\n",
      "1:15.46\n",
      "1:16.03\n",
      "30.05\n",
      "30.21\n",
      "28.86\n",
      "30.65\n",
      "30.03\n",
      "29.64\n",
      "29.82\n",
      "1:11.34\n",
      "1:05.81\n",
      "1:05.75\n",
      "1:05.82\n",
      "2:29.06\n",
      "2:21.49\n",
      "2:24.13\n",
      "2:29.40\n",
      "1:12.71\n",
      "1:19.87\n",
      "1:14.94\n",
      "1:11.53\n",
      "1:14.94\n",
      "1:11.49\n",
      "1:10.16\n",
      "1:12.59\n",
      "1:11.63\n",
      "1:09.43\n",
      "1:02.13\n",
      "1:03.25\n",
      "1:04.16\n",
      "1:03.17\n",
      "1:04.84\n",
      "1:03.88\n",
      "1:04.87\n",
      "38.79\n",
      "39.03\n",
      "41.29\n",
      "39.66\n",
      "41.13\n",
      "38.57\n",
      "39.40\n",
      "41.06\n",
      "40.37\n",
      "43.05\n",
      "37.85\n",
      "39.47\n",
      "37.30\n",
      "41.90\n",
      "42.85\n",
      "39.90\n",
      "38.66\n",
      "38.84\n",
      "37.65\n",
      "39.68\n",
      "37.18\n",
      "43.61\n",
      "35.78\n",
      "36.19\n",
      "36.89\n",
      "34.29\n",
      "34.18\n",
      "35.94\n",
      "1:29.78\n",
      "1:28.38\n",
      "1:25.03\n",
      "1:25.66\n",
      "1:21.76\n",
      "1:23.32\n",
      "1:24.09\n",
      "1:21.51\n",
      "1:28.86\n",
      "1:29.90\n",
      "1:28.12\n",
      "1:28.67\n",
      "1:22.57\n",
      "1:29.64\n",
      "1:20.39\n",
      "1:23.83\n",
      "1:30.24\n",
      "1:33.18\n",
      "1:32.73\n",
      "1:33.05\n",
      "1:30.81\n",
      "1:31.74\n",
      "1:31.53\n",
      "1:33.05\n",
      "1:27.95\n",
      "1:21.07\n",
      "1:30.96\n",
      "1:23.22\n",
      "1:27.95\n",
      "1:28.30\n",
      "3:03.84\n",
      "3:04.27\n",
      "3:01.49\n",
      "3:04.27\n",
      "2:52.44\n",
      "59.21\n",
      "59.27\n",
      "58.67\n",
      "59.72\n",
      "59.17\n",
      "2:35.46\n",
      "2:28.30\n",
      "2:35.35\n",
      "2:28.84\n",
      "1:06.01\n",
      "1:06.93\n",
      "1:05.34\n",
      "1:06.10\n",
      "2:01.15\n",
      "1:57.86\n",
      "1:59.38\n",
      "1:57.94\n",
      "1:56.97\n",
      "1:32.21\n",
      "1:33.68\n",
      "1:34.10\n",
      "1:28.57\n",
      "1:36.72\n",
      "1:34.78\n",
      "1:34.05\n",
      "1:32.78\n",
      "1:33.51\n",
      "1:33.29\n",
      "1:36.47\n",
      "1:31.82\n",
      "1:19.04\n",
      "1:15.88\n",
      "1:18.62\n",
      "1:21.74\n",
      "3:27.51\n",
      "3:34.70\n",
      "3:27.15\n",
      "3:28.45\n",
      "3:34.79\n",
      "3:30.21\n",
      "3:33.74\n",
      "1:35.75\n",
      "1:32.78\n",
      "1:34.01\n",
      "1:32.57\n",
      "1:21.43\n",
      "1:21.40\n",
      "1:21.62\n",
      "1:25.38\n",
      "1:33.36\n",
      "1:31.52\n",
      "1:28.10\n",
      "1:33.37\n",
      "1:32.89\n",
      "1:33.38\n",
      "1:32.03\n",
      "1:32.71\n",
      "1:50.10\n",
      "1:47.12\n",
      "1:54.65\n",
      "1:51.03\n",
      "1:20.81\n",
      "1:23.61\n",
      "1:24.80\n",
      "1:22.05\n",
      "1:22.58\n",
      "1:23.94\n",
      "43.25\n",
      "47.35\n",
      "46.12\n",
      "45.69\n",
      "47.44\n",
      "52.32\n",
      "57.16\n",
      "56.77\n",
      "40.11\n",
      "45.43\n",
      "50.17\n",
      "43.58\n",
      "52.61\n",
      "38.94\n",
      "37.76\n",
      "41.83\n",
      "42.81\n",
      "1:27.10\n",
      "1:26.21\n",
      "1:26.42\n",
      "1:35.79\n",
      "1:30.47\n",
      "1:21.08\n",
      "1:11.23\n",
      "1:12.46\n",
      "1:16.73\n",
      "45.75\n",
      "41.62\n",
      "40.49\n",
      "41.00\n",
      "1:19.23\n",
      "1:13.70\n",
      "1:13.96\n",
      "1:15.94\n",
      "1:14.55\n",
      "1:14.15\n",
      "1:08.38\n",
      "1:08.74\n",
      "1:10.89\n",
      "1:09.47\n",
      "1:09.52\n",
      "1:09.86\n",
      "1:09.83\n",
      "1:02.52\n",
      "1:02.56\n",
      "1:06.41\n",
      "1:07.08\n",
      "1:02.56\n",
      "1:03.23\n",
      "1:04.54\n",
      "2:19.77\n",
      "2:41.57\n",
      "2:27.88\n",
      "2:37.28\n",
      "2:48.05\n",
      "2:44.03\n",
      "2:38.93\n",
      "2:54.86\n",
      "1:15.57\n",
      "1:14.40\n",
      "1:19.82\n",
      "1:12.90\n",
      "1:17.16\n",
      "1:16.65\n",
      "1:23.11\n",
      "1:14.37\n",
      "1:18.16\n",
      "1:18.28\n",
      "1:16.87\n",
      "1:17.37\n",
      "1:20.46\n",
      "1:07.99\n",
      "1:11.87\n",
      "1:11.08\n",
      "1:09.75\n",
      "2:56.68\n",
      "2:42.63\n",
      "2:40.90\n",
      "2:42.88\n",
      "2:46.09\n",
      "2:22.64\n",
      "2:28.16\n",
      "2:28.38\n",
      "2:25.08\n",
      "2:25.64\n",
      "2:33.58\n",
      "5:11.32\n",
      "5:04.12\n",
      "5:20.67\n",
      "5:08.31\n",
      "5:04.32\n",
      "5:06.77\n",
      "5:13.01\n",
      "1:19.63\n",
      "1:16.69\n",
      "1:19.68\n",
      "1:16.56\n",
      "1:20.59\n",
      "1:26.48\n",
      "1:24.15\n",
      "1:21.96\n",
      "1:08.87\n",
      "1:07.34\n",
      "1:11.00\n",
      "1:08.62\n",
      "1:10.94\n",
      "1:09.52\n",
      "1:12.04\n",
      "1:10.91\n",
      "2:54.14\n",
      "3:03.58\n",
      "3:02.43\n",
      "2:57.99\n"
     ]
    }
   ],
   "source": [
    "# Open the file in read mode\n",
    "\n",
    "swimdata = \"swimdata/\"\n",
    "\n",
    "swimmerfiles = os.listdir(swimdata)\n",
    "\n",
    "for file_swimmernames in swimmerfiles:\n",
    "    swimmmerfilepath = os.path.join(swimdata,file_swimmernames)\n",
    "\n",
    "    if os.path.isfile(swimmmerfilepath):\n",
    "        with open(swimmmerfilepath, 'r') as file:\n",
    "            reader = file.read()\n",
    "    \n",
    "\n",
    "    # Split the content into individual values based on commas\n",
    "    values = reader.split(',')\n",
    "\n",
    "    # Loop through the values and print or process each one\n",
    "    for value in values:\n",
    "        # Do something with each value, for example, print it\n",
    "        print(value.strip())  # strip() is used to remove leading and trailing whitespaces"
   ]
  },
  {
   "cell_type": "code",
   "execution_count": 266,
   "metadata": {},
   "outputs": [],
   "source": [
    "SQL2 = \"\"\"INSERT into times(swimmer_id, event_id, time, ts)\n",
    "VALUES (%s, %s, %s, %s) \"\"\""
   ]
  },
  {
   "cell_type": "code",
   "execution_count": 267,
   "metadata": {},
   "outputs": [],
   "source": [
    "# with DBcm.UseDatabase(config) as db:\n",
    "#     db.execute(SQL2,(swimmerid, eventid, value, time))\n",
    "    "
   ]
  },
  {
   "cell_type": "code",
   "execution_count": 268,
   "metadata": {},
   "outputs": [
    {
     "name": "stdout",
     "output_type": "stream",
     "text": [
      "2023-12-06 10:35:37.735954\n"
     ]
    }
   ],
   "source": [
    "from datetime import datetime\n",
    "time = datetime.now()\n",
    "print(time)"
   ]
  },
  {
   "cell_type": "code",
   "execution_count": 269,
   "metadata": {},
   "outputs": [
    {
     "ename": "TypeError",
     "evalue": "__str__ returned non-string (type DataError)",
     "output_type": "error",
     "traceback": [
      "\u001b[1;31m---------------------------------------------------------------------------\u001b[0m",
      "\u001b[1;31mDataError\u001b[0m                                 Traceback (most recent call last)",
      "\u001b[1;32mc:\\Users\\denis\\Documents\\GitHub\\Cloud-Development-Assignment-3\\ingest_data.ipynb Cell 43\u001b[0m line \u001b[0;36m2\n\u001b[0;32m      <a href='vscode-notebook-cell:/c%3A/Users/denis/Documents/GitHub/Cloud-Development-Assignment-3/ingest_data.ipynb#X56sZmlsZQ%3D%3D?line=0'>1</a>\u001b[0m \u001b[39mwith\u001b[39;00m DBcm\u001b[39m.\u001b[39mUseDatabase(config) \u001b[39mas\u001b[39;00m db:\n\u001b[1;32m----> <a href='vscode-notebook-cell:/c%3A/Users/denis/Documents/GitHub/Cloud-Development-Assignment-3/ingest_data.ipynb#X56sZmlsZQ%3D%3D?line=1'>2</a>\u001b[0m     db\u001b[39m.\u001b[39;49mexecute(SQL2,(swimmerid, eventid, value, time))\n",
      "File \u001b[1;32mc:\\Users\\denis\\AppData\\Local\\Programs\\Python\\Python312\\Lib\\site-packages\\mysql\\connector\\cursor.py:617\u001b[0m, in \u001b[0;36mMySQLCursor.execute\u001b[1;34m(self, operation, params, multi)\u001b[0m\n\u001b[0;32m    616\u001b[0m \u001b[39mtry\u001b[39;00m:\n\u001b[1;32m--> 617\u001b[0m     \u001b[39mself\u001b[39m\u001b[39m.\u001b[39m_handle_result(\u001b[39mself\u001b[39;49m\u001b[39m.\u001b[39;49m_connection\u001b[39m.\u001b[39;49mcmd_query(stmt))\n\u001b[0;32m    618\u001b[0m \u001b[39mexcept\u001b[39;00m InterfaceError \u001b[39mas\u001b[39;00m err:\n",
      "File \u001b[1;32mc:\\Users\\denis\\AppData\\Local\\Programs\\Python\\Python312\\Lib\\site-packages\\mysql\\connector\\opentelemetry\\context_propagation.py:77\u001b[0m, in \u001b[0;36mwith_context_propagation.<locals>.wrapper\u001b[1;34m(cnx, *args, **kwargs)\u001b[0m\n\u001b[0;32m     76\u001b[0m \u001b[39mif\u001b[39;00m \u001b[39mnot\u001b[39;00m OTEL_ENABLED \u001b[39mor\u001b[39;00m \u001b[39mnot\u001b[39;00m cnx\u001b[39m.\u001b[39motel_context_propagation:\n\u001b[1;32m---> 77\u001b[0m     \u001b[39mreturn\u001b[39;00m method(cnx, \u001b[39m*\u001b[39;49margs, \u001b[39m*\u001b[39;49m\u001b[39m*\u001b[39;49mkwargs)\n\u001b[0;32m     79\u001b[0m current_span \u001b[39m=\u001b[39m trace\u001b[39m.\u001b[39mget_current_span()\n",
      "File \u001b[1;32mc:\\Users\\denis\\AppData\\Local\\Programs\\Python\\Python312\\Lib\\site-packages\\mysql\\connector\\connection.py:1069\u001b[0m, in \u001b[0;36mMySQLConnection.cmd_query\u001b[1;34m(self, query, raw, buffered, raw_as_string)\u001b[0m\n\u001b[0;32m   1068\u001b[0m \u001b[39mtry\u001b[39;00m:\n\u001b[1;32m-> 1069\u001b[0m     result \u001b[39m=\u001b[39m \u001b[39mself\u001b[39;49m\u001b[39m.\u001b[39;49m_handle_result(\u001b[39mself\u001b[39;49m\u001b[39m.\u001b[39;49m_send_cmd(ServerCmd\u001b[39m.\u001b[39;49mQUERY, query))\n\u001b[0;32m   1070\u001b[0m \u001b[39mexcept\u001b[39;00m ProgrammingError \u001b[39mas\u001b[39;00m err:\n",
      "File \u001b[1;32mc:\\Users\\denis\\AppData\\Local\\Programs\\Python\\Python312\\Lib\\site-packages\\mysql\\connector\\connection.py:846\u001b[0m, in \u001b[0;36mMySQLConnection._handle_result\u001b[1;34m(self, packet)\u001b[0m\n\u001b[0;32m    845\u001b[0m \u001b[39mif\u001b[39;00m packet[\u001b[39m4\u001b[39m] \u001b[39m==\u001b[39m \u001b[39m255\u001b[39m:\n\u001b[1;32m--> 846\u001b[0m     \u001b[39mraise\u001b[39;00m get_exception(packet)\n\u001b[0;32m    848\u001b[0m \u001b[39m# We have a text result set\u001b[39;00m\n",
      "\u001b[1;31mDataError\u001b[0m: 1366 (22007): Incorrect integer value: 'SELECT id FROM swimmers' for column `swimclubdb`.`times`.`swimmer_id` at row 1",
      "\nDuring handling of the above exception, another exception occurred:\n",
      "\u001b[1;31mDataError\u001b[0m                                 Traceback (most recent call last)",
      "    \u001b[1;31m[... skipping hidden 1 frame]\u001b[0m\n",
      "\u001b[1;32mc:\\Users\\denis\\Documents\\GitHub\\Cloud-Development-Assignment-3\\ingest_data.ipynb Cell 43\u001b[0m line \u001b[0;36m1\n\u001b[1;32m----> <a href='vscode-notebook-cell:/c%3A/Users/denis/Documents/GitHub/Cloud-Development-Assignment-3/ingest_data.ipynb#X56sZmlsZQ%3D%3D?line=0'>1</a>\u001b[0m \u001b[39mwith\u001b[39;49;00m DBcm\u001b[39m.\u001b[39;49mUseDatabase(config) \u001b[39mas\u001b[39;49;00m db:\n\u001b[0;32m      <a href='vscode-notebook-cell:/c%3A/Users/denis/Documents/GitHub/Cloud-Development-Assignment-3/ingest_data.ipynb#X56sZmlsZQ%3D%3D?line=1'>2</a>\u001b[0m     db\u001b[39m.\u001b[39;49mexecute(SQL2,(swimmerid, eventid, value, time))\n",
      "File \u001b[1;32mc:\\Users\\denis\\AppData\\Local\\Programs\\Python\\Python312\\Lib\\site-packages\\DBcm.py:118\u001b[0m, in \u001b[0;36mUseDatabase.__exit__\u001b[1;34m(self, exc_type, exc_value, exc_traceback)\u001b[0m\n\u001b[0;32m    117\u001b[0m \u001b[39melif\u001b[39;00m exc_type:\n\u001b[1;32m--> 118\u001b[0m     \u001b[39mraise\u001b[39;00m exc_type(exc_value)\n",
      "\u001b[1;31m<class 'str'>\u001b[0m: (<class 'TypeError'>, TypeError('__str__ returned non-string (type DataError)'))",
      "\nDuring handling of the above exception, another exception occurred:\n",
      "\u001b[1;31mTypeError\u001b[0m                                 Traceback (most recent call last)",
      "    \u001b[1;31m[... skipping hidden 1 frame]\u001b[0m\n",
      "File \u001b[1;32m~\\AppData\\Roaming\\Python\\Python312\\site-packages\\IPython\\core\\interactiveshell.py:2131\u001b[0m, in \u001b[0;36mInteractiveShell.showtraceback\u001b[1;34m(self, exc_tuple, filename, tb_offset, exception_only, running_compiled_code)\u001b[0m\n\u001b[0;32m   2128\u001b[0m         traceback\u001b[39m.\u001b[39mprint_exc()\n\u001b[0;32m   2129\u001b[0m         \u001b[39mreturn\u001b[39;00m \u001b[39mNone\u001b[39;00m\n\u001b[1;32m-> 2131\u001b[0m     \u001b[39mself\u001b[39;49m\u001b[39m.\u001b[39;49m_showtraceback(etype, value, stb)\n\u001b[0;32m   2132\u001b[0m \u001b[39mif\u001b[39;00m \u001b[39mself\u001b[39m\u001b[39m.\u001b[39mcall_pdb:\n\u001b[0;32m   2133\u001b[0m     \u001b[39m# drop into debugger\u001b[39;00m\n\u001b[0;32m   2134\u001b[0m     \u001b[39mself\u001b[39m\u001b[39m.\u001b[39mdebugger(force\u001b[39m=\u001b[39m\u001b[39mTrue\u001b[39;00m)\n",
      "File \u001b[1;32m~\\AppData\\Roaming\\Python\\Python312\\site-packages\\ipykernel\\zmqshell.py:556\u001b[0m, in \u001b[0;36mZMQInteractiveShell._showtraceback\u001b[1;34m(self, etype, evalue, stb)\u001b[0m\n\u001b[0;32m    550\u001b[0m sys\u001b[39m.\u001b[39mstdout\u001b[39m.\u001b[39mflush()\n\u001b[0;32m    551\u001b[0m sys\u001b[39m.\u001b[39mstderr\u001b[39m.\u001b[39mflush()\n\u001b[0;32m    553\u001b[0m exc_content \u001b[39m=\u001b[39m {\n\u001b[0;32m    554\u001b[0m     \u001b[39m\"\u001b[39m\u001b[39mtraceback\u001b[39m\u001b[39m\"\u001b[39m: stb,\n\u001b[0;32m    555\u001b[0m     \u001b[39m\"\u001b[39m\u001b[39mename\u001b[39m\u001b[39m\"\u001b[39m: \u001b[39mstr\u001b[39m(etype\u001b[39m.\u001b[39m\u001b[39m__name__\u001b[39m),\n\u001b[1;32m--> 556\u001b[0m     \u001b[39m\"\u001b[39m\u001b[39mevalue\u001b[39m\u001b[39m\"\u001b[39m: \u001b[39mstr\u001b[39;49m(evalue),\n\u001b[0;32m    557\u001b[0m }\n\u001b[0;32m    559\u001b[0m dh \u001b[39m=\u001b[39m \u001b[39mself\u001b[39m\u001b[39m.\u001b[39mdisplayhook\n\u001b[0;32m    560\u001b[0m \u001b[39m# Send exception info over pub socket for other clients than the caller\u001b[39;00m\n\u001b[0;32m    561\u001b[0m \u001b[39m# to pick up\u001b[39;00m\n",
      "\u001b[1;31mTypeError\u001b[0m: __str__ returned non-string (type DataError)"
     ]
    }
   ],
   "source": [
    "with DBcm.UseDatabase(config) as db:\n",
    "    db.execute(SQL2,(swimmerid, eventid, value, time))\n",
    "    "
   ]
  },
  {
   "cell_type": "code",
   "execution_count": null,
   "metadata": {},
   "outputs": [],
   "source": []
  }
 ],
 "metadata": {
  "kernelspec": {
   "display_name": "Python 3",
   "language": "python",
   "name": "python3"
  },
  "language_info": {
   "codemirror_mode": {
    "name": "ipython",
    "version": 3
   },
   "file_extension": ".py",
   "mimetype": "text/x-python",
   "name": "python",
   "nbconvert_exporter": "python",
   "pygments_lexer": "ipython3",
   "version": "3.12.0"
  }
 },
 "nbformat": 4,
 "nbformat_minor": 2
}
